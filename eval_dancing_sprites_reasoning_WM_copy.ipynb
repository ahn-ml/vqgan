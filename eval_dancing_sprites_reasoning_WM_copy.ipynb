{
 "cells": [
  {
   "cell_type": "code",
   "execution_count": 32,
   "metadata": {},
   "outputs": [],
   "source": [
    "import os\n",
    "os.environ['CUDA_DEVICE_ORDER']='PCI_BUS_ID'\n",
    "os.environ['CUDA_VISIBLE_DEVICES']='3'\n",
    "DATASET_PATH = '/data/hslee/discrete-jepa/runner/datasets/data'"
   ]
  },
  {
   "cell_type": "code",
   "execution_count": 33,
   "metadata": {},
   "outputs": [],
   "source": [
    "config= \"\"\"\n",
    "model:\n",
    "  base_learning_rate: 4.5e-06\n",
    "  target: taming.models.vqgan.VQModel\n",
    "  params:\n",
    "    sane_index_shape: true\n",
    "    embed_dim: 96\n",
    "    n_embed: 1024\n",
    "    ddconfig:\n",
    "      double_z: false\n",
    "      z_channels: 96\n",
    "      resolution: 64\n",
    "      in_channels: 3\n",
    "      out_ch: 3\n",
    "      ch: 96\n",
    "      ch_mult:\n",
    "      - 1\n",
    "      - 2\n",
    "      - 2\n",
    "      - 4\n",
    "      - 4\n",
    "      num_res_blocks: 2\n",
    "      attn_resolutions:\n",
    "      - 16\n",
    "      dropout: 0.0\n",
    "    lossconfig:\n",
    "      target: taming.modules.losses.vqperceptual.VQLPIPSWithDiscriminator\n",
    "      params:\n",
    "        disc_conditional: false\n",
    "        disc_in_channels: 3\n",
    "        disc_start: 10000\n",
    "        disc_weight: 0.8\n",
    "        codebook_weight: 1.0\n",
    "data:\n",
    "  target: main.DataModuleFromConfig\n",
    "  params:\n",
    "    batch_size: 128\n",
    "    num_workers: 8\n",
    "    train:\n",
    "      target: taming.data.dancing_sprites.DSPTrain\n",
    "      params:\n",
    "        root: /data/hslee/discrete-jepa/runner/datasets/data/dsp-hard\n",
    "        video_len: 8\n",
    "        stochastic_sample: true\n",
    "        include_labels: false\n",
    "        size: 64\n",
    "    validation:\n",
    "      target: taming.data.dancing_sprites.DSPTest\n",
    "      params:\n",
    "        root: /data/hslee/discrete-jepa/runner/datasets/data/dsp-hard\n",
    "        video_len: 8\n",
    "        stochastic_sample: true\n",
    "        include_labels: true\n",
    "        size: 64\n",
    "\"\"\" \n",
    "from omegaconf import OmegaConf as omg\n",
    "\n",
    "cfg = omg.create(config)"
   ]
  },
  {
   "cell_type": "code",
   "execution_count": 34,
   "metadata": {},
   "outputs": [
    {
     "data": {
      "text/plain": [
       "{'model': {'base_learning_rate': 4.5e-06, 'target': 'taming.models.vqgan.VQModel', 'params': {'sane_index_shape': True, 'embed_dim': 96, 'n_embed': 1024, 'ddconfig': {'double_z': False, 'z_channels': 96, 'resolution': 64, 'in_channels': 3, 'out_ch': 3, 'ch': 96, 'ch_mult': [1, 2, 2, 4, 4], 'num_res_blocks': 2, 'attn_resolutions': [16], 'dropout': 0.0}, 'lossconfig': {'target': 'taming.modules.losses.vqperceptual.VQLPIPSWithDiscriminator', 'params': {'disc_conditional': False, 'disc_in_channels': 3, 'disc_start': 10000, 'disc_weight': 0.8, 'codebook_weight': 1.0}}}}, 'data': {'target': 'main.DataModuleFromConfig', 'params': {'batch_size': 128, 'num_workers': 8, 'train': {'target': 'taming.data.dancing_sprites.DSPTrain', 'params': {'root': '/data/hslee/discrete-jepa/runner/datasets/data/dsp-hard', 'video_len': 8, 'stochastic_sample': True, 'include_labels': False, 'size': 64}}, 'validation': {'target': 'taming.data.dancing_sprites.DSPTest', 'params': {'root': '/data/hslee/discrete-jepa/runner/datasets/data/dsp-hard', 'video_len': 8, 'stochastic_sample': True, 'include_labels': True, 'size': 64}}}}}"
      ]
     },
     "execution_count": 34,
     "metadata": {},
     "output_type": "execute_result"
    }
   ],
   "source": [
    "cfg"
   ]
  },
  {
   "cell_type": "markdown",
   "metadata": {},
   "source": [
    "### Discrete-JEPA Tokenizer"
   ]
  },
  {
   "cell_type": "code",
   "execution_count": 35,
   "metadata": {},
   "outputs": [],
   "source": [
    "import numpy as np\n",
    "import wandb\n",
    "import torch\n",
    "import pytorch_lightning as pl \n",
    "from hydra import initialize, compose\n",
    "# Load Configuration\n",
    "from main import instantiate_from_config\n",
    "\n",
    "codebook_size = 1024\n",
    "\n",
    "#tokenizer_ckpt_path='/data/hslee/discrete-jepa/logs/runs/djepa/dancing-sprites-reasoning/250401180922_djepa_dancing-sprites-reasoning_2024-svq4096rndP8T96/version_0/checkpoint/ckpt_199800.ckpt'\n",
    "#tokenizer_ckpt_path='/data/hslee/discrete-jepa/logs/runs/titok/dancing-sprites-reasoning/250613192509_titok_dancing-sprites-reasoning_2024/version_0/checkpoint/ckpt_24300.ckpt' \n",
    "tokenizer_ckpt_path = '/data/hslee/taming-transformers/logs/2025-06-20T11-22-32_custom_vqgan/checkpoints/last.ckpt'\n",
    "\n"
   ]
  },
  {
   "cell_type": "code",
   "execution_count": 36,
   "metadata": {},
   "outputs": [],
   "source": [
    "ckpt=torch.load(tokenizer_ckpt_path,weights_only=False,map_location='cuda')\n",
    "#ckpt['state_dict']"
   ]
  },
  {
   "cell_type": "code",
   "execution_count": 37,
   "metadata": {},
   "outputs": [
    {
     "name": "stderr",
     "output_type": "stream",
     "text": [
      "Global seed set to 2024\n"
     ]
    },
    {
     "name": "stdout",
     "output_type": "stream",
     "text": [
      "Working with z of shape (1, 96, 4, 4) = 1536 dimensions.\n",
      "loaded pretrained LPIPS loss from taming/modules/autoencoder/lpips/vgg.pth\n",
      "VQLPIPSWithDiscriminator running with hinge loss.\n",
      "train dataset has # 57600\n",
      "test dataset has # 6400\n"
     ]
    }
   ],
   "source": [
    "import torch\n",
    "import hydra\n",
    "from torch.utils.data import DataLoader\n",
    "\n",
    "from pytorch_lightning import seed_everything\n",
    "\n",
    "seed_everything(2024, workers=True)\n",
    "\n",
    "def load_tokenizer(cfg, tokenizer_ckpt_path):\n",
    "    tokenizer = instantiate_from_config(cfg.model)\n",
    "    tokenizer.load_state_dict(torch.load(tokenizer_ckpt_path,weights_only=False,map_location='cuda')['state_dict'])\n",
    "    tokenizer = tokenizer.eval()\n",
    "    tokenizer.requires_grad_(False)\n",
    "    return tokenizer\n",
    "\n",
    "tokenizer = load_tokenizer(cfg, tokenizer_ckpt_path)\n",
    "\n",
    "train_dataloader = DataLoader(\n",
    "    instantiate_from_config(cfg.data.params.train),\n",
    "    batch_size=128,\n",
    "    shuffle=True,\n",
    "    num_workers=8,\n",
    "    pin_memory=True,\n",
    "    )\n",
    "# Load Validation Dataset\n",
    "val_dataloader = DataLoader(\n",
    "    instantiate_from_config(cfg.data.params.validation),\n",
    "    batch_size=128,\n",
    "    shuffle=False,\n",
    "    num_workers=8,\n",
    "    pin_memory=True,\n",
    "    )"
   ]
  },
  {
   "cell_type": "markdown",
   "metadata": {},
   "source": [
    "### World Model"
   ]
  },
  {
   "cell_type": "code",
   "execution_count": 38,
   "metadata": {},
   "outputs": [],
   "source": [
    "from dino_wm import ViTPredictor, ViTCategoricalPredictor, ViTIndex2IndexPredictor, VWorldModel\n",
    "import torch.nn as nn\n",
    "import torch.nn.functional as F"
   ]
  },
  {
   "cell_type": "code",
   "execution_count": 39,
   "metadata": {},
   "outputs": [],
   "source": [
    "from importlib import reload\n"
   ]
  },
  {
   "cell_type": "markdown",
   "metadata": {},
   "source": [
    "##### Global Token Extractor"
   ]
  },
  {
   "cell_type": "code",
   "execution_count": 40,
   "metadata": {},
   "outputs": [],
   "source": [
    "from tqdm import tqdm\n",
    "from einops import rearrange\n",
    "\n",
    "def tokenize_all(tokenizer, dataloader, get_factor=False, n_samples_for_dci=1024):\n",
    "    global_token_collector = []\n",
    "    patch_token_collector = []\n",
    "    global_indices_collector = []\n",
    "\n",
    "    tokenizer.train(False) \n",
    "    factors = []\n",
    "    tokenizer.cuda()\n",
    "    for batch in tqdm(dataloader):\n",
    "        if get_factor:\n",
    "            image, label, mask = batch\n",
    "        else:\n",
    "            image = batch\n",
    "        b = image.size(0)\n",
    "        image = rearrange(image, 'b t ... -> (b t) ...')\n",
    "        # prediction\n",
    "\n",
    "        global_tokens, loss, res = tokenizer.encode(image.cuda())\n",
    "\n",
    "        indices = res[-1]\n",
    "        global_indices_collector.append(rearrange(indices,'(b t) h w -> b t (h w)',b=b))\n",
    "\n",
    "        global_token_collector.append(rearrange(global_tokens,'(b t) d h w -> b t (h w) d', b=b))\n",
    "\n",
    "        # patch_token_collector.append(patch_tokens)\n",
    "        if get_factor:\n",
    "            factors.append(label)\n",
    "        torch.cuda.empty_cache()\n",
    "        if len(global_token_collector)*len(image) > n_samples_for_dci:\n",
    "            break\n",
    "\n",
    "    global_token_collector = torch.cat(global_token_collector, dim=0) #.squeeze()\n",
    "    \n",
    "    #global_token_collector = global_token_collector # b t n d\n",
    "    # patch_token_collector = torch.cat(patch_token_collector, dim=0) #.squeeze()\n",
    "\n",
    "    global_indices_collector = torch.cat(global_indices_collector, dim=0)\n",
    "    print(global_token_collector.shape)\n",
    "    print(global_indices_collector.shape)\n",
    "    if get_factor:\n",
    "        factors = torch.cat(factors, dim=0)\n",
    "        factors = factors.flatten(start_dim=1,end_dim=2)\n",
    "    else:\n",
    "        factors = None\n",
    "    print(factors.shape)\n",
    "\n",
    "    _, _, _, L = global_token_collector.size()  # b t n d \n",
    "    global_token_concat = global_token_collector.flatten(start_dim=2)\n",
    "\n",
    "    \n",
    "    torch.cuda.empty_cache()\n",
    "\n",
    "    #print('Global Token:', global_token_collector.size()) # [1152, token_size, num_latent_tokens]\n",
    "    #print('Global Indices:', global_indices_collector.size())\n",
    "    return global_token_collector, global_indices_collector, factors\n",
    "\n",
    "#train_global_token, train_global_indices, _ = tokenize_all(tokenizer, train_dataloader)\n",
    "#val_global_token, val_global_indices, factors = tokenize_all(tokenizer, val_dataloader,get_factor=True)"
   ]
  },
  {
   "cell_type": "markdown",
   "metadata": {},
   "source": [
    "##### LARS Optimizer"
   ]
  },
  {
   "cell_type": "code",
   "execution_count": 41,
   "metadata": {},
   "outputs": [],
   "source": [
    "class LARS(torch.optim.Optimizer):\n",
    "    \"\"\"\n",
    "    LARS optimizer, no rate scaling or weight decay for parameters <= 1D.\n",
    "    \"\"\"\n",
    "    def __init__(self, params, lr=0, weight_decay=0, momentum=0.9, trust_coefficient=0.001):\n",
    "        defaults = dict(lr=lr, weight_decay=weight_decay, momentum=momentum, trust_coefficient=trust_coefficient)\n",
    "        super().__init__(params, defaults)\n",
    "\n",
    "    @torch.no_grad()\n",
    "    def step(self):\n",
    "        for g in self.param_groups:\n",
    "            for p in g['params']:\n",
    "                dp = p.grad\n",
    "\n",
    "                if dp is None:\n",
    "                    continue\n",
    "\n",
    "                if p.ndim > 1: # if not normalization gamma/beta or bias\n",
    "                    dp = dp.add(p, alpha=g['weight_decay'])\n",
    "                    param_norm = torch.norm(p)\n",
    "                    update_norm = torch.norm(dp)\n",
    "                    one = torch.ones_like(param_norm)\n",
    "                    q = torch.where(param_norm > 0.,\n",
    "                                    torch.where(update_norm > 0,\n",
    "                                    (g['trust_coefficient'] * param_norm / update_norm), one),\n",
    "                                    one)\n",
    "                    dp = dp.mul(q)\n",
    "\n",
    "                param_state = self.state[p]\n",
    "                if 'mu' not in param_state:\n",
    "                    param_state['mu'] = torch.zeros_like(p)\n",
    "                mu = param_state['mu']\n",
    "                mu.mul_(g['momentum']).add_(dp)\n",
    "                p.add_(mu, alpha=-g['lr'])"
   ]
  },
  {
   "cell_type": "markdown",
   "metadata": {},
   "source": [
    "#### Trainer"
   ]
  },
  {
   "cell_type": "code",
   "execution_count": 42,
   "metadata": {},
   "outputs": [],
   "source": [
    "num_classes_list = [7,7,4] # color, shapes, position\n",
    "\n",
    "class MultiHeadAttentionPool(nn.Module):\n",
    "    def __init__(self, dim, num_heads=8):\n",
    "        super().__init__()\n",
    "        self.attention = nn.MultiheadAttention(dim, num_heads, batch_first=True)\n",
    "        self.query = nn.Parameter(torch.randn(1, 1, dim))\n",
    "        \n",
    "    def forward(self, x):\n",
    "        # x: [B, N, D]\n",
    "        query = self.query.expand(x.shape[0], -1, -1)\n",
    "        out, _ = self.attention(query, x, x)\n",
    "        return out.squeeze(1)  # [B, D]\n",
    "\n",
    "class FeatAvgPool(nn.Module):\n",
    "    def __init__(self):\n",
    "        super().__init__()\n",
    "        self.avg_pool = nn.AdaptiveAvgPool1d(1)\n",
    "\n",
    "    def forward(self, x):\n",
    "        # bs, seq_len, dims = x.shape\n",
    "        x = x.permute((0, 2, 1))\n",
    "        return self.avg_pool(x).squeeze()\n",
    "\n",
    "def train_classifier(probes, aggregator, tokenizer, val_dataloader, lr=0.1, num_iterations= 20000,n_samples=1024, logging=False, run_name=None):\n",
    "    global_tokens , global_token_indices, factors = tokenize_all(tokenizer, val_dataloader, get_factor=True, n_samples_for_dci=n_samples)\n",
    "    \n",
    "    train_perc=0.75\n",
    "    num_points = global_tokens.shape[0] * global_tokens.shape[1]\n",
    "    print('num_points=',num_points)\n",
    "    global_tokens =global_tokens  # Normalize the global tokens\n",
    "    perm = np.random.permutation(num_points)\n",
    "    with torch.no_grad():\n",
    "        x = rearrange(global_tokens, 'b t n d -> (b t) n d')[perm].cuda()\n",
    "        factors = rearrange(factors, 'b t c -> (b t) c')[perm]\n",
    "        x_pooled = aggregator(x)\n",
    "    x_train = x_pooled[:int(num_points * train_perc)]\n",
    "    x_test = x_pooled[int(num_points * train_perc):]\n",
    "    y_train = factors[:int(num_points * train_perc)].long().cuda()\n",
    "    y_test = factors[int(num_points * train_perc):].long().cuda()\n",
    "    \n",
    "    criterion = nn.CrossEntropyLoss()\n",
    "    optimizer = LARS(probes.parameters(), lr=lr)\n",
    "    if logging:\n",
    "        if wandb.run is not None:\n",
    "            wandb.finish()\n",
    "        wandb.init(project=\"djepa\", name=run_name)\n",
    "        wandb.config.update({\n",
    "            \"train_perc\": train_perc,\n",
    "            \"num_iterations\": num_iterations,\n",
    "            \"num_classes\": num_classes_list,\n",
    "            #\"protocol_type\": protocol_type\n",
    "        })\n",
    "    \n",
    "    probes.train()\n",
    "    for iter in tqdm(range(num_iterations)):\n",
    "        optimizer.zero_grad()\n",
    "        losses = [criterion(probes[i](x_train), y_train[:, i]) for i in range(len(num_classes_list))]\n",
    "        \n",
    "        loss = sum(losses)\n",
    "        loss.backward()\n",
    "        optimizer.step()\n",
    "        # Log training loss\n",
    "        if iter % 1000 == 0:\n",
    "            if logging:\n",
    "                wandb.log({\n",
    "                    \"train_loss\": loss.item(),\n",
    "                }, step=iter)\n",
    "\n",
    "            # Evaluation and logging final results\n",
    "            with torch.no_grad():\n",
    "                test_accuracies = []\n",
    "                for i in range(len(num_classes_list)):\n",
    "                    output = probes[i](x_test)\n",
    "                    preds = output.argmax(-1)\n",
    "                    accuracy = (preds == y_test[:, i]).float().mean()\n",
    "                    test_accuracies.append(accuracy.item())\n",
    "                    print(f\"Task {i+1} Accuracy: {accuracy.item():.4f}\")\n",
    "\n",
    "            avg_accuracy = sum(test_accuracies)/len(test_accuracies)\n",
    "            print(f\"Average Accuracy: {avg_accuracy:.4f}\")\n",
    "\n",
    "            # Log final results\n",
    "            if logging:\n",
    "                wandb.log({\n",
    "                    \"test_accuracy_task1\": test_accuracies[0],\n",
    "                    \"test_accuracy_task2\": test_accuracies[1],\n",
    "                    \"test_accuracy_task3\": test_accuracies[2],\n",
    "                    \"test_accuracy_avg\": avg_accuracy,\n",
    "                    \"test_accuracy_avg12\": (test_accuracies[0] + test_accuracies[1])/2\n",
    "                })\n",
    "\n",
    "def evaluator(worldmodel, probes, token_pooling, val_dataloader, num_hist, num_pred, truth=False):\n",
    "    use_post_vq = True\n",
    "    worldmodel.eval()\n",
    "    token_pooling.eval()\n",
    "    if use_post_vq:\n",
    "        print('using codebook')\n",
    "        codebook = worldmodel.encoder.quantize.embedding\n",
    "\n",
    "    eval_loss = []\n",
    "    eval_index_acc =[]\n",
    "    \n",
    "    for batch in tqdm(val_dataloader):\n",
    "        image, label, _ = batch\n",
    "        with torch.no_grad():\n",
    "            \n",
    "            z_pred, loss, loss_components = worldmodel({'visual': image.cuda()})\n",
    "\n",
    "            eval_loss.append(loss.item())\n",
    "            assert z_pred.size(1) == num_pred\n",
    "            if use_post_vq:\n",
    "                if not truth:\n",
    "                    z_pred_idx = torch.argmax(z_pred,dim=-1)\n",
    "                    z_pred_idx = z_pred_idx[:, 0:num_pred, :] # use only first prediction\n",
    "\n",
    "                    # index prediction accuracy \n",
    "                    r = (loss_components['z_tgt'].detach()==z_pred_idx).flatten(start_dim=0)\n",
    "                    eval_index_acc.append(r.sum().item()/len(r))\n",
    "\n",
    "                    # quantize the predicted indices\n",
    "                    z_pred_quantized=  rearrange(codebook(z_pred_idx.flatten()),'(b t n) d -> (b t) n d', b=len(z_pred), t=num_pred)\n",
    "                    z_pred_pooled = token_pooling(z_pred_quantized) # (b t) d\n",
    "                else:\n",
    "                    print('caution: evaluating ground truth')\n",
    "                    gt_, _, res = worldmodel.encoder.encode(rearrange(image.cuda(),'b t ... -> (b t) ...'))\n",
    "                    gt_ = rearrange(gt_, '(b t) d h w -> b t (h w) d', b=len(z_pred))[:, num_hist:num_hist+num_pred]\n",
    "                    #ind = rearrange(res['min_encoding_indices'],'(b t) 1 p -> b t p', b=len(z_pred))\n",
    "                    z_pred_pooled = token_pooling(rearrange(gt_, 'b t n d -> (b t) n d')) # (b t) d\n",
    "            else:\n",
    "                z_pred_pooled = token_pooling(rearrange(z_pred, 'b t n d -> (b t) n d'))\n",
    "            \n",
    "            label_last = label[:, num_hist:num_hist+num_pred, 0].cuda()\n",
    "            test_accuracies = [[] for _ in range(num_pred)]\n",
    "            for i in range(len(num_classes_list)):\n",
    "                output = probes[i](z_pred_pooled)\n",
    "                #print(output.shape)\n",
    "                preds = rearrange(output.argmax(-1),'(b t) -> b t', b=len(z_pred))\n",
    "                #print(preds, label_last[:, i])\n",
    "                accuracies = (preds == label_last[:, :, i]).float()\n",
    "                for ts in range(num_pred):\n",
    "                    test_accuracies[ts].append(accuracies[:, ts].mean().item())\n",
    "                    \n",
    "                    #print(f\"Task {i+1} Accuracy: {accuracy.item():.4f}\")\n",
    "    accs = [[0]*num_pred for _ in num_classes_list]\n",
    "    \n",
    "    for i in range(len(num_classes_list)):\n",
    "        for ts in range(num_pred):\n",
    "            s = test_accuracies[ts][i::len(num_classes_list)]\n",
    "            _ac=sum(s)/len(s)\n",
    "            accs[i][ts]=_ac\n",
    "            print(f\"Task {i+1} Accuracy future +{ts+1}: {_ac:.4f}\")\n",
    "    return eval_loss, eval_index_acc, accs\n",
    "\n",
    "def train_worldmodel(worldmodel, train_dataloader, val_dataloader, lr, num_epochs = 10,postfix=\"\", num_hist=cfg.data.params.train.params.video_len//2, num_pred=1, load_ckpt=None, token_pooling=None, probes=None, logging=True):\n",
    "    assert num_hist >= num_pred\n",
    "    use_post_vq=True\n",
    "    if load_ckpt is not None:\n",
    "        worldmodel.load_state_dict(torch.load(load_ckpt,map_location='cuda',weights_only=False))\n",
    "        return worldmodel\n",
    "    if logging:\n",
    "        if wandb.run is not None:\n",
    "            wandb.finish()\n",
    "        wandb.init(project=\"lightning_logs\", config=dict(cfg), name=f\"wm_dsph_lr{lr}_ep{num_epochs}{postfix}_vqgan\")\n",
    "        wandb.config.update({'num_hist':num_hist, 'num_pred':num_pred, 'wm_lr':lr})\n",
    "\n",
    "    optimizer = torch.optim.Adam(worldmodel.parameters(), lr=lr)\n",
    "    global_step = 0\n",
    "    for epoch in range(num_epochs):\n",
    "        worldmodel.train()\n",
    "        \n",
    "        epoch_loss = []\n",
    "        bar = tqdm(train_dataloader)\n",
    "        for batch in bar:\n",
    "            \n",
    "            z_pred, loss, loss_components = worldmodel({'visual': batch.cuda()})\n",
    "\n",
    "            optimizer.zero_grad()\n",
    "            loss.backward()\n",
    "            torch.nn.utils.clip_grad_norm_(worldmodel.parameters(), max_norm=10.0)\n",
    "            optimizer.step()\n",
    "            \n",
    "            epoch_loss.append(loss.item())\n",
    "            bar.set_description(f'Train Loss: {loss.item():.5f}')\n",
    "            if logging:\n",
    "                wandb.log({'wm_train_loss': loss.item(), 'wm_lr': lr},step=global_step)\n",
    "            global_step+=1\n",
    "            \n",
    "            \n",
    "        #print(f\"Epoch {epoch} train_loss={sum(epoch_loss)/len(epoch_loss):.5f}\")\n",
    "        if (epoch+1) % 5 == 0:\n",
    "            torch.save(worldmodel.state_dict(),f'wm_dsph_lr{lr}_ep{epoch+1}{postfix}_titok.ckpt')\n",
    "        worldmodel.eval()\n",
    "        \n",
    "            \n",
    "        eval_loss, eval_index_acc, accs = evaluator(worldmodel, probes, token_pooling, val_dataloader, num_hist, num_pred, )\n",
    "        print(f\"Epoch {epoch} val_loss={sum(eval_loss)/len(eval_loss):.5f} {'indexing_acc '+str(sum(eval_index_acc)/len(eval_index_acc)).format('.5f') if use_post_vq  else ''}\")\n",
    "        if logging:\n",
    "            wandb.log({'wm_val_loss': sum(eval_loss)/len(eval_loss)},step=global_step)\n",
    "            for i in range(len(probes)):\n",
    "                for ts in range(num_pred):\n",
    "                    wandb.log({f\"task{i+1}_acc_ts{ts+1}\":accs[i][ts] }, step=global_step)\n",
    "        #torch.save(worldmodel.state_dict(),f'worldmodel_dsp_lr{lr}_ep{epoch+1}_hist{num_hist}_d{model_dim}l{depth}h{heads}mh{mlp_hidden_dim}ah{attn_head_dim}dr{dropout}{postfix}.ckpt')\n",
    "    if logging:\n",
    "        wandb.finish()\n"
   ]
  },
  {
   "cell_type": "markdown",
   "metadata": {},
   "source": [
    "### Run"
   ]
  },
  {
   "cell_type": "code",
   "execution_count": 43,
   "metadata": {},
   "outputs": [],
   "source": [
    "# Create postfix for logging\n",
    "token_size = str(96)\n",
    "num_latent_tokens = str(16)\n",
    "vq_mode = f\"-V{codebook_size}\" \n",
    "\n",
    "num_hist = cfg.data.params.train.params.video_len //2\n",
    "num_pred = cfg.data.params.train.params.video_len //2\n",
    "use_post_vq=True\n",
    "input_indices = True\n",
    "\n",
    "postfix = f\"-T{token_size}-L{num_latent_tokens}{vq_mode}-H{num_hist}-{'r2r' if not use_post_vq else ('i2i' if input_indices else 'r2i') }\""
   ]
  },
  {
   "cell_type": "markdown",
   "metadata": {},
   "source": [
    "#### Train Classifier"
   ]
  },
  {
   "cell_type": "code",
   "execution_count": 44,
   "metadata": {},
   "outputs": [],
   "source": [
    "#wandb.finish()"
   ]
  },
  {
   "cell_type": "code",
   "execution_count": 45,
   "metadata": {},
   "outputs": [
    {
     "name": "stderr",
     "output_type": "stream",
     "text": [
      "Global seed set to 2024\n",
      "100%|██████████| 50/50 [00:38<00:00,  1.29it/s]\n"
     ]
    },
    {
     "name": "stdout",
     "output_type": "stream",
     "text": [
      "torch.Size([6400, 8, 16, 96])\n",
      "torch.Size([6400, 8, 16])\n",
      "torch.Size([6400, 8, 3])\n",
      "num_points= 51200\n"
     ]
    },
    {
     "name": "stderr",
     "output_type": "stream",
     "text": [
      "  0%|          | 33/10000 [00:00<00:31, 318.84it/s]"
     ]
    },
    {
     "name": "stdout",
     "output_type": "stream",
     "text": [
      "Task 1 Accuracy: 0.1687\n",
      "Task 2 Accuracy: 0.1713\n",
      "Task 3 Accuracy: 0.0882\n",
      "Average Accuracy: 0.1427\n"
     ]
    },
    {
     "name": "stderr",
     "output_type": "stream",
     "text": [
      " 10%|█         | 1040/10000 [00:04<00:40, 223.81it/s]"
     ]
    },
    {
     "name": "stdout",
     "output_type": "stream",
     "text": [
      "Task 1 Accuracy: 0.9100\n",
      "Task 2 Accuracy: 0.3456\n",
      "Task 3 Accuracy: 0.9780\n",
      "Average Accuracy: 0.7446\n"
     ]
    },
    {
     "name": "stderr",
     "output_type": "stream",
     "text": [
      " 20%|██        | 2029/10000 [00:08<00:35, 227.17it/s]"
     ]
    },
    {
     "name": "stdout",
     "output_type": "stream",
     "text": [
      "Task 1 Accuracy: 0.9392\n",
      "Task 2 Accuracy: 0.3456\n",
      "Task 3 Accuracy: 0.9839\n",
      "Average Accuracy: 0.7562\n"
     ]
    },
    {
     "name": "stderr",
     "output_type": "stream",
     "text": [
      " 30%|███       | 3041/10000 [00:13<00:30, 225.83it/s]"
     ]
    },
    {
     "name": "stdout",
     "output_type": "stream",
     "text": [
      "Task 1 Accuracy: 0.9621\n",
      "Task 2 Accuracy: 0.3457\n",
      "Task 3 Accuracy: 0.9834\n",
      "Average Accuracy: 0.7637\n"
     ]
    },
    {
     "name": "stderr",
     "output_type": "stream",
     "text": [
      " 40%|████      | 4030/10000 [00:17<00:26, 225.33it/s]"
     ]
    },
    {
     "name": "stdout",
     "output_type": "stream",
     "text": [
      "Task 1 Accuracy: 0.9677\n",
      "Task 2 Accuracy: 0.3456\n",
      "Task 3 Accuracy: 0.9834\n",
      "Average Accuracy: 0.7656\n"
     ]
    },
    {
     "name": "stderr",
     "output_type": "stream",
     "text": [
      " 50%|█████     | 5042/10000 [00:22<00:21, 226.01it/s]"
     ]
    },
    {
     "name": "stdout",
     "output_type": "stream",
     "text": [
      "Task 1 Accuracy: 0.9680\n",
      "Task 2 Accuracy: 0.3459\n",
      "Task 3 Accuracy: 0.9834\n",
      "Average Accuracy: 0.7658\n"
     ]
    },
    {
     "name": "stderr",
     "output_type": "stream",
     "text": [
      " 60%|██████    | 6032/10000 [00:26<00:17, 225.41it/s]"
     ]
    },
    {
     "name": "stdout",
     "output_type": "stream",
     "text": [
      "Task 1 Accuracy: 0.9680\n",
      "Task 2 Accuracy: 0.3459\n",
      "Task 3 Accuracy: 0.9834\n",
      "Average Accuracy: 0.7658\n"
     ]
    },
    {
     "name": "stderr",
     "output_type": "stream",
     "text": [
      " 70%|███████   | 7030/10000 [00:30<00:13, 224.59it/s]"
     ]
    },
    {
     "name": "stdout",
     "output_type": "stream",
     "text": [
      "Task 1 Accuracy: 0.9679\n",
      "Task 2 Accuracy: 0.3459\n",
      "Task 3 Accuracy: 0.9834\n",
      "Average Accuracy: 0.7657\n"
     ]
    },
    {
     "name": "stderr",
     "output_type": "stream",
     "text": [
      " 80%|████████  | 8042/10000 [00:35<00:08, 224.87it/s]"
     ]
    },
    {
     "name": "stdout",
     "output_type": "stream",
     "text": [
      "Task 1 Accuracy: 0.9680\n",
      "Task 2 Accuracy: 0.3458\n",
      "Task 3 Accuracy: 0.9834\n",
      "Average Accuracy: 0.7658\n"
     ]
    },
    {
     "name": "stderr",
     "output_type": "stream",
     "text": [
      " 90%|█████████ | 9032/10000 [00:39<00:04, 225.28it/s]"
     ]
    },
    {
     "name": "stdout",
     "output_type": "stream",
     "text": [
      "Task 1 Accuracy: 0.9681\n",
      "Task 2 Accuracy: 0.3458\n",
      "Task 3 Accuracy: 0.9834\n",
      "Average Accuracy: 0.7658\n"
     ]
    },
    {
     "name": "stderr",
     "output_type": "stream",
     "text": [
      "100%|██████████| 10000/10000 [00:43<00:00, 228.58it/s]\n"
     ]
    }
   ],
   "source": [
    "seed_everything(2024, workers=True)\n",
    "# probes = nn.ModuleList(nn.Sequential(nn.Linear(cfg.worldmodel.vq_model.token_size, hidden_dim), \n",
    "#                                      nn.ReLU(),\n",
    "#                                      nn.Linear(hidden_dim, num_classes)\n",
    "#                                      ) \n",
    "#         for num_classes in num_classes_list).cuda()\n",
    "probes = nn.ModuleList(nn.Linear(96*16, num_classes) \n",
    "        for num_classes in num_classes_list).cuda()\n",
    "#aggregator = MultiHeadAttentionPool(dim=cfg.worldmodel.vq_model.token_size, num_heads=1).cuda()\n",
    "#aggregator = FeatAvgPool().cuda()\n",
    "aggregator = nn.Flatten(start_dim=-2, end_dim=-1).cuda()\n",
    "\n",
    "if True:\n",
    "    train_classifier(probes, aggregator, tokenizer, val_dataloader, lr=0.1,n_samples=np.inf,num_iterations=10000,logging=False, run_name=f\"cls_dsph_lr0.1_ep10000_avgpool\")\n",
    "    torch.save(probes.state_dict(),'cls_dsph_lr0.1_ep10000_flatten_vqvae_96')\n",
    "    if wandb.run is not None:\n",
    "        wandb.finish()\n",
    "else:\n",
    "    probes.load_state_dict(torch.load('/data/hslee/taming-transformers/cls_dsph_lr0.1_ep10000_flatten_vqvae_96'))"
   ]
  },
  {
   "cell_type": "code",
   "execution_count": 46,
   "metadata": {},
   "outputs": [],
   "source": [
    "import importlib\n",
    "import dino_wm\n",
    "importlib.reload(dino_wm)\n",
    "from dino_wm import ViTPredictor, ViTCategoricalPredictor, ViTIndex2IndexPredictor, VWorldModel"
   ]
  },
  {
   "cell_type": "code",
   "execution_count": 48,
   "metadata": {},
   "outputs": [
    {
     "name": "stderr",
     "output_type": "stream",
     "text": [
      "Global seed set to 2024\n"
     ]
    },
    {
     "name": "stdout",
     "output_type": "stream",
     "text": [
      "-T96-L16-V1024-H4-i2i\n"
     ]
    },
    {
     "name": "stderr",
     "output_type": "stream",
     "text": [
      "\u001b[34m\u001b[1mwandb\u001b[0m: Currently logged in as: \u001b[33mgitpush-force\u001b[0m (\u001b[33mconfeito\u001b[0m) to \u001b[32mhttps://api.wandb.ai\u001b[0m. Use \u001b[1m`wandb login --relogin`\u001b[0m to force relogin\n"
     ]
    },
    {
     "data": {
      "text/html": [
       "creating run (0.4s)"
      ],
      "text/plain": [
       "<IPython.core.display.HTML object>"
      ]
     },
     "metadata": {},
     "output_type": "display_data"
    },
    {
     "data": {
      "text/html": [
       "Tracking run with wandb version 0.20.1"
      ],
      "text/plain": [
       "<IPython.core.display.HTML object>"
      ]
     },
     "metadata": {},
     "output_type": "display_data"
    },
    {
     "data": {
      "text/html": [
       "Run data is saved locally in <code>/data/hslee/taming-transformers/wandb/run-20250624_221854-4rn3ee42</code>"
      ],
      "text/plain": [
       "<IPython.core.display.HTML object>"
      ]
     },
     "metadata": {},
     "output_type": "display_data"
    },
    {
     "data": {
      "text/html": [
       "Syncing run <strong><a href='https://wandb.ai/confeito/lightning_logs/runs/4rn3ee42' target=\"_blank\">wm_dsph_lr0.001_ep15-T96-L16-V1024-H4-i2i_vqgan</a></strong> to <a href='https://wandb.ai/confeito/lightning_logs' target=\"_blank\">Weights & Biases</a> (<a href='https://wandb.me/developer-guide' target=\"_blank\">docs</a>)<br>"
      ],
      "text/plain": [
       "<IPython.core.display.HTML object>"
      ]
     },
     "metadata": {},
     "output_type": "display_data"
    },
    {
     "data": {
      "text/html": [
       " View project at <a href='https://wandb.ai/confeito/lightning_logs' target=\"_blank\">https://wandb.ai/confeito/lightning_logs</a>"
      ],
      "text/plain": [
       "<IPython.core.display.HTML object>"
      ]
     },
     "metadata": {},
     "output_type": "display_data"
    },
    {
     "data": {
      "text/html": [
       " View run at <a href='https://wandb.ai/confeito/lightning_logs/runs/4rn3ee42' target=\"_blank\">https://wandb.ai/confeito/lightning_logs/runs/4rn3ee42</a>"
      ],
      "text/plain": [
       "<IPython.core.display.HTML object>"
      ]
     },
     "metadata": {},
     "output_type": "display_data"
    },
    {
     "name": "stderr",
     "output_type": "stream",
     "text": [
      "Train Loss: 1.26341: 100%|██████████| 450/450 [03:24<00:00,  2.20it/s]\n"
     ]
    },
    {
     "name": "stdout",
     "output_type": "stream",
     "text": [
      "using codebook\n"
     ]
    },
    {
     "name": "stderr",
     "output_type": "stream",
     "text": [
      "100%|██████████| 50/50 [00:22<00:00,  2.22it/s]\n"
     ]
    },
    {
     "name": "stdout",
     "output_type": "stream",
     "text": [
      "Task 1 Accuracy future +1: 0.3984\n",
      "Task 1 Accuracy future +2: 0.4219\n",
      "Task 1 Accuracy future +3: 0.5781\n",
      "Task 1 Accuracy future +4: 0.3438\n",
      "Task 2 Accuracy future +1: 0.3047\n",
      "Task 2 Accuracy future +2: 0.2734\n",
      "Task 2 Accuracy future +3: 0.3047\n",
      "Task 2 Accuracy future +4: 0.2891\n",
      "Task 3 Accuracy future +1: 0.9922\n",
      "Task 3 Accuracy future +2: 0.9844\n",
      "Task 3 Accuracy future +3: 0.9844\n",
      "Task 3 Accuracy future +4: 0.9688\n",
      "Epoch 0 val_loss=1.24746 indexing_acc 0.59390869140625\n"
     ]
    },
    {
     "name": "stderr",
     "output_type": "stream",
     "text": [
      "Train Loss: 1.08529: 100%|██████████| 450/450 [03:24<00:00,  2.20it/s]\n"
     ]
    },
    {
     "name": "stdout",
     "output_type": "stream",
     "text": [
      "using codebook\n"
     ]
    },
    {
     "name": "stderr",
     "output_type": "stream",
     "text": [
      "100%|██████████| 50/50 [00:22<00:00,  2.21it/s]\n"
     ]
    },
    {
     "name": "stdout",
     "output_type": "stream",
     "text": [
      "Task 1 Accuracy future +1: 0.6250\n",
      "Task 1 Accuracy future +2: 0.6328\n",
      "Task 1 Accuracy future +3: 0.5938\n",
      "Task 1 Accuracy future +4: 0.3125\n",
      "Task 2 Accuracy future +1: 0.2656\n",
      "Task 2 Accuracy future +2: 0.3359\n",
      "Task 2 Accuracy future +3: 0.2969\n",
      "Task 2 Accuracy future +4: 0.3359\n",
      "Task 3 Accuracy future +1: 0.9609\n",
      "Task 3 Accuracy future +2: 0.9688\n",
      "Task 3 Accuracy future +3: 0.9766\n",
      "Task 3 Accuracy future +4: 0.9766\n",
      "Epoch 1 val_loss=1.09490 indexing_acc 0.6612890625\n"
     ]
    },
    {
     "name": "stderr",
     "output_type": "stream",
     "text": [
      "Train Loss: 1.11136: 100%|██████████| 450/450 [03:25<00:00,  2.19it/s]\n"
     ]
    },
    {
     "name": "stdout",
     "output_type": "stream",
     "text": [
      "using codebook\n"
     ]
    },
    {
     "name": "stderr",
     "output_type": "stream",
     "text": [
      "100%|██████████| 50/50 [00:22<00:00,  2.23it/s]\n"
     ]
    },
    {
     "name": "stdout",
     "output_type": "stream",
     "text": [
      "Task 1 Accuracy future +1: 0.6719\n",
      "Task 1 Accuracy future +2: 0.6641\n",
      "Task 1 Accuracy future +3: 0.6641\n",
      "Task 1 Accuracy future +4: 0.3281\n",
      "Task 2 Accuracy future +1: 0.3125\n",
      "Task 2 Accuracy future +2: 0.3047\n",
      "Task 2 Accuracy future +3: 0.3047\n",
      "Task 2 Accuracy future +4: 0.3359\n",
      "Task 3 Accuracy future +1: 0.9688\n",
      "Task 3 Accuracy future +2: 0.9844\n",
      "Task 3 Accuracy future +3: 0.9688\n",
      "Task 3 Accuracy future +4: 0.9844\n",
      "Epoch 2 val_loss=0.98642 indexing_acc 0.7018310546875\n"
     ]
    },
    {
     "name": "stderr",
     "output_type": "stream",
     "text": [
      "Train Loss: 0.97244: 100%|██████████| 450/450 [03:24<00:00,  2.20it/s]\n"
     ]
    },
    {
     "name": "stdout",
     "output_type": "stream",
     "text": [
      "using codebook\n"
     ]
    },
    {
     "name": "stderr",
     "output_type": "stream",
     "text": [
      "100%|██████████| 50/50 [00:22<00:00,  2.21it/s]\n"
     ]
    },
    {
     "name": "stdout",
     "output_type": "stream",
     "text": [
      "Task 1 Accuracy future +1: 0.6719\n",
      "Task 1 Accuracy future +2: 0.6562\n",
      "Task 1 Accuracy future +3: 0.6562\n",
      "Task 1 Accuracy future +4: 0.4844\n",
      "Task 2 Accuracy future +1: 0.3047\n",
      "Task 2 Accuracy future +2: 0.3125\n",
      "Task 2 Accuracy future +3: 0.2891\n",
      "Task 2 Accuracy future +4: 0.3047\n",
      "Task 3 Accuracy future +1: 0.9844\n",
      "Task 3 Accuracy future +2: 0.9844\n",
      "Task 3 Accuracy future +3: 0.9766\n",
      "Task 3 Accuracy future +4: 0.9844\n",
      "Epoch 3 val_loss=0.75363 indexing_acc 0.74899169921875\n"
     ]
    },
    {
     "name": "stderr",
     "output_type": "stream",
     "text": [
      "Train Loss: 0.67188: 100%|██████████| 450/450 [03:24<00:00,  2.20it/s]\n"
     ]
    },
    {
     "name": "stdout",
     "output_type": "stream",
     "text": [
      "using codebook\n"
     ]
    },
    {
     "name": "stderr",
     "output_type": "stream",
     "text": [
      "100%|██████████| 50/50 [00:22<00:00,  2.20it/s]\n"
     ]
    },
    {
     "name": "stdout",
     "output_type": "stream",
     "text": [
      "Task 1 Accuracy future +1: 0.7031\n",
      "Task 1 Accuracy future +2: 0.7188\n",
      "Task 1 Accuracy future +3: 0.7422\n",
      "Task 1 Accuracy future +4: 0.8438\n",
      "Task 2 Accuracy future +1: 0.3047\n",
      "Task 2 Accuracy future +2: 0.2734\n",
      "Task 2 Accuracy future +3: 0.3281\n",
      "Task 2 Accuracy future +4: 0.3047\n",
      "Task 3 Accuracy future +1: 0.9844\n",
      "Task 3 Accuracy future +2: 0.9766\n",
      "Task 3 Accuracy future +3: 0.9844\n",
      "Task 3 Accuracy future +4: 0.9844\n",
      "Epoch 4 val_loss=0.51015 indexing_acc 0.82708984375\n"
     ]
    },
    {
     "name": "stderr",
     "output_type": "stream",
     "text": [
      "Train Loss: 0.67970: 100%|██████████| 450/450 [03:24<00:00,  2.20it/s]\n"
     ]
    },
    {
     "name": "stdout",
     "output_type": "stream",
     "text": [
      "using codebook\n"
     ]
    },
    {
     "name": "stderr",
     "output_type": "stream",
     "text": [
      "100%|██████████| 50/50 [00:22<00:00,  2.22it/s]\n"
     ]
    },
    {
     "name": "stdout",
     "output_type": "stream",
     "text": [
      "Task 1 Accuracy future +1: 0.7422\n",
      "Task 1 Accuracy future +2: 0.7188\n",
      "Task 1 Accuracy future +3: 0.7500\n",
      "Task 1 Accuracy future +4: 0.9141\n",
      "Task 2 Accuracy future +1: 0.3047\n",
      "Task 2 Accuracy future +2: 0.3359\n",
      "Task 2 Accuracy future +3: 0.3203\n",
      "Task 2 Accuracy future +4: 0.2734\n",
      "Task 3 Accuracy future +1: 0.9844\n",
      "Task 3 Accuracy future +2: 0.9844\n",
      "Task 3 Accuracy future +3: 0.9766\n",
      "Task 3 Accuracy future +4: 0.9922\n",
      "Epoch 5 val_loss=0.46988 indexing_acc 0.83730224609375\n"
     ]
    },
    {
     "name": "stderr",
     "output_type": "stream",
     "text": [
      "Train Loss: 0.55286: 100%|██████████| 450/450 [03:24<00:00,  2.20it/s]\n"
     ]
    },
    {
     "name": "stdout",
     "output_type": "stream",
     "text": [
      "using codebook\n"
     ]
    },
    {
     "name": "stderr",
     "output_type": "stream",
     "text": [
      "100%|██████████| 50/50 [00:22<00:00,  2.21it/s]\n"
     ]
    },
    {
     "name": "stdout",
     "output_type": "stream",
     "text": [
      "Task 1 Accuracy future +1: 0.6953\n",
      "Task 1 Accuracy future +2: 0.7500\n",
      "Task 1 Accuracy future +3: 0.7578\n",
      "Task 1 Accuracy future +4: 0.8906\n",
      "Task 2 Accuracy future +1: 0.3203\n",
      "Task 2 Accuracy future +2: 0.3047\n",
      "Task 2 Accuracy future +3: 0.2969\n",
      "Task 2 Accuracy future +4: 0.3125\n",
      "Task 3 Accuracy future +1: 0.9844\n",
      "Task 3 Accuracy future +2: 0.9922\n",
      "Task 3 Accuracy future +3: 0.9688\n",
      "Task 3 Accuracy future +4: 0.9922\n",
      "Epoch 6 val_loss=0.46378 indexing_acc 0.83968017578125\n"
     ]
    },
    {
     "name": "stderr",
     "output_type": "stream",
     "text": [
      "Train Loss: 0.58900: 100%|██████████| 450/450 [03:24<00:00,  2.20it/s]\n"
     ]
    },
    {
     "name": "stdout",
     "output_type": "stream",
     "text": [
      "using codebook\n"
     ]
    },
    {
     "name": "stderr",
     "output_type": "stream",
     "text": [
      "100%|██████████| 50/50 [00:22<00:00,  2.23it/s]\n"
     ]
    },
    {
     "name": "stdout",
     "output_type": "stream",
     "text": [
      "Task 1 Accuracy future +1: 0.7031\n",
      "Task 1 Accuracy future +2: 0.7422\n",
      "Task 1 Accuracy future +3: 0.7344\n",
      "Task 1 Accuracy future +4: 0.9297\n",
      "Task 2 Accuracy future +1: 0.3047\n",
      "Task 2 Accuracy future +2: 0.3438\n",
      "Task 2 Accuracy future +3: 0.2734\n",
      "Task 2 Accuracy future +4: 0.3203\n",
      "Task 3 Accuracy future +1: 0.9766\n",
      "Task 3 Accuracy future +2: 0.9922\n",
      "Task 3 Accuracy future +3: 0.9766\n",
      "Task 3 Accuracy future +4: 0.9922\n",
      "Epoch 7 val_loss=0.46167 indexing_acc 0.83996826171875\n"
     ]
    },
    {
     "name": "stderr",
     "output_type": "stream",
     "text": [
      "Train Loss: 0.58638: 100%|██████████| 450/450 [03:23<00:00,  2.21it/s]\n"
     ]
    },
    {
     "name": "stdout",
     "output_type": "stream",
     "text": [
      "using codebook\n"
     ]
    },
    {
     "name": "stderr",
     "output_type": "stream",
     "text": [
      "100%|██████████| 50/50 [00:22<00:00,  2.23it/s]\n"
     ]
    },
    {
     "name": "stdout",
     "output_type": "stream",
     "text": [
      "Task 1 Accuracy future +1: 0.7266\n",
      "Task 1 Accuracy future +2: 0.7266\n",
      "Task 1 Accuracy future +3: 0.7422\n",
      "Task 1 Accuracy future +4: 0.9297\n",
      "Task 2 Accuracy future +1: 0.2812\n",
      "Task 2 Accuracy future +2: 0.3203\n",
      "Task 2 Accuracy future +3: 0.2812\n",
      "Task 2 Accuracy future +4: 0.2969\n",
      "Task 3 Accuracy future +1: 0.9844\n",
      "Task 3 Accuracy future +2: 0.9844\n",
      "Task 3 Accuracy future +3: 0.9922\n",
      "Task 3 Accuracy future +4: 0.9844\n",
      "Epoch 8 val_loss=0.45608 indexing_acc 0.84221923828125\n"
     ]
    },
    {
     "name": "stderr",
     "output_type": "stream",
     "text": [
      "Train Loss: 0.60716: 100%|██████████| 450/450 [03:23<00:00,  2.21it/s]\n"
     ]
    },
    {
     "name": "stdout",
     "output_type": "stream",
     "text": [
      "using codebook\n"
     ]
    },
    {
     "name": "stderr",
     "output_type": "stream",
     "text": [
      "100%|██████████| 50/50 [00:22<00:00,  2.21it/s]\n"
     ]
    },
    {
     "name": "stdout",
     "output_type": "stream",
     "text": [
      "Task 1 Accuracy future +1: 0.7344\n",
      "Task 1 Accuracy future +2: 0.7344\n",
      "Task 1 Accuracy future +3: 0.6953\n",
      "Task 1 Accuracy future +4: 0.9688\n",
      "Task 2 Accuracy future +1: 0.3125\n",
      "Task 2 Accuracy future +2: 0.2969\n",
      "Task 2 Accuracy future +3: 0.3047\n",
      "Task 2 Accuracy future +4: 0.3047\n",
      "Task 3 Accuracy future +1: 0.9922\n",
      "Task 3 Accuracy future +2: 0.9844\n",
      "Task 3 Accuracy future +3: 0.9844\n",
      "Task 3 Accuracy future +4: 0.9844\n",
      "Epoch 9 val_loss=0.44976 indexing_acc 0.8443994140625\n"
     ]
    },
    {
     "name": "stderr",
     "output_type": "stream",
     "text": [
      "Train Loss: 0.49813: 100%|██████████| 450/450 [03:23<00:00,  2.21it/s]\n"
     ]
    },
    {
     "name": "stdout",
     "output_type": "stream",
     "text": [
      "using codebook\n"
     ]
    },
    {
     "name": "stderr",
     "output_type": "stream",
     "text": [
      "100%|██████████| 50/50 [00:22<00:00,  2.21it/s]\n"
     ]
    },
    {
     "name": "stdout",
     "output_type": "stream",
     "text": [
      "Task 1 Accuracy future +1: 0.7500\n",
      "Task 1 Accuracy future +2: 0.7422\n",
      "Task 1 Accuracy future +3: 0.7109\n",
      "Task 1 Accuracy future +4: 0.9609\n",
      "Task 2 Accuracy future +1: 0.3047\n",
      "Task 2 Accuracy future +2: 0.2969\n",
      "Task 2 Accuracy future +3: 0.3359\n",
      "Task 2 Accuracy future +4: 0.3047\n",
      "Task 3 Accuracy future +1: 0.9844\n",
      "Task 3 Accuracy future +2: 0.9688\n",
      "Task 3 Accuracy future +3: 0.9844\n",
      "Task 3 Accuracy future +4: 0.9844\n",
      "Epoch 10 val_loss=0.44550 indexing_acc 0.84618408203125\n"
     ]
    },
    {
     "name": "stderr",
     "output_type": "stream",
     "text": [
      "Train Loss: 0.66394: 100%|██████████| 450/450 [03:22<00:00,  2.22it/s]\n"
     ]
    },
    {
     "name": "stdout",
     "output_type": "stream",
     "text": [
      "using codebook\n"
     ]
    },
    {
     "name": "stderr",
     "output_type": "stream",
     "text": [
      "100%|██████████| 50/50 [00:22<00:00,  2.24it/s]\n"
     ]
    },
    {
     "name": "stdout",
     "output_type": "stream",
     "text": [
      "Task 1 Accuracy future +1: 0.7266\n",
      "Task 1 Accuracy future +2: 0.7344\n",
      "Task 1 Accuracy future +3: 0.7188\n",
      "Task 1 Accuracy future +4: 0.9609\n",
      "Task 2 Accuracy future +1: 0.2812\n",
      "Task 2 Accuracy future +2: 0.2891\n",
      "Task 2 Accuracy future +3: 0.3125\n",
      "Task 2 Accuracy future +4: 0.3125\n",
      "Task 3 Accuracy future +1: 0.9844\n",
      "Task 3 Accuracy future +2: 0.9922\n",
      "Task 3 Accuracy future +3: 0.9844\n",
      "Task 3 Accuracy future +4: 0.9922\n",
      "Epoch 11 val_loss=0.44206 indexing_acc 0.84693115234375\n"
     ]
    },
    {
     "name": "stderr",
     "output_type": "stream",
     "text": [
      "Train Loss: 0.46050: 100%|██████████| 450/450 [03:24<00:00,  2.20it/s]\n"
     ]
    },
    {
     "name": "stdout",
     "output_type": "stream",
     "text": [
      "using codebook\n"
     ]
    },
    {
     "name": "stderr",
     "output_type": "stream",
     "text": [
      "100%|██████████| 50/50 [00:22<00:00,  2.21it/s]\n"
     ]
    },
    {
     "name": "stdout",
     "output_type": "stream",
     "text": [
      "Task 1 Accuracy future +1: 0.7344\n",
      "Task 1 Accuracy future +2: 0.7422\n",
      "Task 1 Accuracy future +3: 0.7266\n",
      "Task 1 Accuracy future +4: 0.9609\n",
      "Task 2 Accuracy future +1: 0.3047\n",
      "Task 2 Accuracy future +2: 0.3359\n",
      "Task 2 Accuracy future +3: 0.3047\n",
      "Task 2 Accuracy future +4: 0.2969\n",
      "Task 3 Accuracy future +1: 0.9766\n",
      "Task 3 Accuracy future +2: 0.9844\n",
      "Task 3 Accuracy future +3: 0.9844\n",
      "Task 3 Accuracy future +4: 0.9844\n",
      "Epoch 12 val_loss=0.43993 indexing_acc 0.84753662109375\n"
     ]
    },
    {
     "name": "stderr",
     "output_type": "stream",
     "text": [
      "Train Loss: 0.45318: 100%|██████████| 450/450 [03:24<00:00,  2.20it/s]\n"
     ]
    },
    {
     "name": "stdout",
     "output_type": "stream",
     "text": [
      "using codebook\n"
     ]
    },
    {
     "name": "stderr",
     "output_type": "stream",
     "text": [
      "100%|██████████| 50/50 [00:22<00:00,  2.21it/s]\n"
     ]
    },
    {
     "name": "stdout",
     "output_type": "stream",
     "text": [
      "Task 1 Accuracy future +1: 0.7344\n",
      "Task 1 Accuracy future +2: 0.7500\n",
      "Task 1 Accuracy future +3: 0.7344\n",
      "Task 1 Accuracy future +4: 0.9688\n",
      "Task 2 Accuracy future +1: 0.2812\n",
      "Task 2 Accuracy future +2: 0.2734\n",
      "Task 2 Accuracy future +3: 0.2969\n",
      "Task 2 Accuracy future +4: 0.3281\n",
      "Task 3 Accuracy future +1: 0.9766\n",
      "Task 3 Accuracy future +2: 0.9922\n",
      "Task 3 Accuracy future +3: 0.9844\n",
      "Task 3 Accuracy future +4: 0.9922\n",
      "Epoch 13 val_loss=0.43688 indexing_acc 0.84786376953125\n"
     ]
    },
    {
     "name": "stderr",
     "output_type": "stream",
     "text": [
      "Train Loss: 0.48494: 100%|██████████| 450/450 [03:24<00:00,  2.20it/s]\n"
     ]
    },
    {
     "name": "stdout",
     "output_type": "stream",
     "text": [
      "using codebook\n"
     ]
    },
    {
     "name": "stderr",
     "output_type": "stream",
     "text": [
      "100%|██████████| 50/50 [00:22<00:00,  2.21it/s]\n",
      "\u001b[34m\u001b[1mwandb\u001b[0m: \u001b[32m\u001b[41mERROR\u001b[0m The nbformat package was not found. It is required to save notebook history.\n"
     ]
    },
    {
     "name": "stdout",
     "output_type": "stream",
     "text": [
      "Task 1 Accuracy future +1: 0.7344\n",
      "Task 1 Accuracy future +2: 0.7188\n",
      "Task 1 Accuracy future +3: 0.7422\n",
      "Task 1 Accuracy future +4: 0.9531\n",
      "Task 2 Accuracy future +1: 0.3203\n",
      "Task 2 Accuracy future +2: 0.3125\n",
      "Task 2 Accuracy future +3: 0.2891\n",
      "Task 2 Accuracy future +4: 0.3047\n",
      "Task 3 Accuracy future +1: 0.9688\n",
      "Task 3 Accuracy future +2: 0.9922\n",
      "Task 3 Accuracy future +3: 0.9688\n",
      "Task 3 Accuracy future +4: 0.9922\n",
      "Epoch 14 val_loss=0.43579 indexing_acc 0.84895263671875\n"
     ]
    },
    {
     "data": {
      "text/html": [],
      "text/plain": [
       "<IPython.core.display.HTML object>"
      ]
     },
     "metadata": {},
     "output_type": "display_data"
    },
    {
     "data": {
      "text/html": [
       "<br>    <style><br>        .wandb-row {<br>            display: flex;<br>            flex-direction: row;<br>            flex-wrap: wrap;<br>            justify-content: flex-start;<br>            width: 100%;<br>        }<br>        .wandb-col {<br>            display: flex;<br>            flex-direction: column;<br>            flex-basis: 100%;<br>            flex: 1;<br>            padding: 10px;<br>        }<br>    </style><br><div class=\"wandb-row\"><div class=\"wandb-col\"><h3>Run history:</h3><br/><table class=\"wandb\"><tr><td>task1_acc_ts1</td><td>▁▆▆▆▇█▇▇███████</td></tr><tr><td>task1_acc_ts2</td><td>▁▅▆▆▇▇██▇█████▇</td></tr><tr><td>task1_acc_ts3</td><td>▁▂▄▄▇██▇▇▆▆▆▇▇▇</td></tr><tr><td>task1_acc_ts4</td><td>▁▁▁▃▇▇▇████████</td></tr><tr><td>task2_acc_ts1</td><td>▆▁▇▆▆▆█▆▃▇▆▃▆▃█</td></tr><tr><td>task2_acc_ts2</td><td>▁▇▄▅▁▇▄█▆▃▃▃▇▁▅</td></tr><tr><td>task2_acc_ts3</td><td>▅▄▅▃▇▆▄▁▂▅█▅▅▄▃</td></tr><tr><td>task2_acc_ts4</td><td>▃██▅▅▁▅▆▄▅▅▅▄▇▅</td></tr><tr><td>task3_acc_ts1</td><td>█▁▃▆▆▆▆▅▆█▆▆▅▅▃</td></tr><tr><td>task3_acc_ts2</td><td>▆▁▆▆▃▆██▆▆▁█▆██</td></tr><tr><td>task3_acc_ts3</td><td>▆▃▁▃▆▃▁▃█▆▆▆▆▆▁</td></tr><tr><td>task3_acc_ts4</td><td>▁▃▆▆▆███▆▆▆█▆██</td></tr><tr><td>wm_lr</td><td>▁▁▁▁▁▁▁▁▁▁▁▁▁▁▁▁▁▁▁▁▁▁▁▁▁▁▁▁▁▁▁▁▁▁▁▁▁▁▁▁</td></tr><tr><td>wm_train_loss</td><td>█▇█▆▇▆▅▄▅▃▅▄▂▂▂▂▂▁▂▁▂▂▁▂▂▂▂▂▂▁▂▂▁▂▁▂▂▂▁▂</td></tr><tr><td>wm_val_loss</td><td>█▇▆▄▂▁▁▁▁▁▁▁▁▁▁</td></tr></table><br/></div><div class=\"wandb-col\"><h3>Run summary:</h3><br/><table class=\"wandb\"><tr><td>task1_acc_ts1</td><td>0.73438</td></tr><tr><td>task1_acc_ts2</td><td>0.71875</td></tr><tr><td>task1_acc_ts3</td><td>0.74219</td></tr><tr><td>task1_acc_ts4</td><td>0.95312</td></tr><tr><td>task2_acc_ts1</td><td>0.32031</td></tr><tr><td>task2_acc_ts2</td><td>0.3125</td></tr><tr><td>task2_acc_ts3</td><td>0.28906</td></tr><tr><td>task2_acc_ts4</td><td>0.30469</td></tr><tr><td>task3_acc_ts1</td><td>0.96875</td></tr><tr><td>task3_acc_ts2</td><td>0.99219</td></tr><tr><td>task3_acc_ts3</td><td>0.96875</td></tr><tr><td>task3_acc_ts4</td><td>0.99219</td></tr><tr><td>wm_lr</td><td>0.001</td></tr><tr><td>wm_train_loss</td><td>0.48494</td></tr><tr><td>wm_val_loss</td><td>0.43579</td></tr></table><br/></div></div>"
      ],
      "text/plain": [
       "<IPython.core.display.HTML object>"
      ]
     },
     "metadata": {},
     "output_type": "display_data"
    },
    {
     "data": {
      "text/html": [
       " View run <strong style=\"color:#cdcd00\">wm_dsph_lr0.001_ep15-T96-L16-V1024-H4-i2i_vqgan</strong> at: <a href='https://wandb.ai/confeito/lightning_logs/runs/4rn3ee42' target=\"_blank\">https://wandb.ai/confeito/lightning_logs/runs/4rn3ee42</a><br> View project at: <a href='https://wandb.ai/confeito/lightning_logs' target=\"_blank\">https://wandb.ai/confeito/lightning_logs</a><br>Synced 5 W&B file(s), 0 media file(s), 0 artifact file(s) and 0 other file(s)"
      ],
      "text/plain": [
       "<IPython.core.display.HTML object>"
      ]
     },
     "metadata": {},
     "output_type": "display_data"
    },
    {
     "data": {
      "text/html": [
       "Find logs at: <code>./wandb/run-20250624_221854-4rn3ee42/logs</code>"
      ],
      "text/plain": [
       "<IPython.core.display.HTML object>"
      ]
     },
     "metadata": {},
     "output_type": "display_data"
    }
   ],
   "source": [
    "# R : distributed Representation\n",
    "# I : codebook Index of representation\n",
    "# QR : Quantized Representation\n",
    "depth=2\n",
    "heads=4\n",
    "model_dim=96\n",
    "mlp_hidden_dim=256\n",
    "attn_head_dim=32\n",
    "dropout=0.3\n",
    "emb_dropout=0.\n",
    "seed_everything(2024, workers=True)\n",
    "\n",
    "        # I -> I\n",
    "predictor =  ViTIndex2IndexPredictor(num_patches=16, \n",
    "                num_frames=num_hist,\n",
    "                codebook_size=1024,\n",
    "                dim=model_dim,\n",
    "                depth=depth,\n",
    "                heads=heads,\n",
    "                mlp_dim=mlp_hidden_dim, \n",
    "                pool='mean',\n",
    "                dim_head=attn_head_dim,\n",
    "                dropout=dropout,\n",
    "                emb_dropout=emb_dropout).cuda()\n",
    "\n",
    "\n",
    "wm = VWorldModel(cfg,use_post_vq=use_post_vq,num_hist=num_hist, num_pred=num_pred, encoder=tokenizer,predictor=predictor, train_encoder=False, train_predictor=True, input_indices=input_indices, djepa=True).cuda()\n",
    "\n",
    "print(postfix)\n",
    "train_worldmodel(wm, train_dataloader, val_dataloader, lr=1e-3, num_epochs=15, postfix=postfix, num_hist=num_hist, num_pred=num_pred, token_pooling=aggregator, probes=probes, logging=True)#, load_ckpt='wm_dsph_lr0.001_ep30-T96-L8-V4096-H4-r2i_titok.ckpt')\n",
    "#train_worldmodel(wm, train_dataloader, val_dataloader, lr=1e-3, num_epochs=30, postfix=postfix, num_hist=num_hist, num_pred=num_pred, token_pooling=aggregator, probes=probes, logging=True)"
   ]
  },
  {
   "cell_type": "code",
   "execution_count": null,
   "metadata": {},
   "outputs": [],
   "source": [
    "#del wandb\n",
    "import wandb"
   ]
  },
  {
   "cell_type": "markdown",
   "metadata": {},
   "source": [
    "### Autoregressive Evaluation"
   ]
  },
  {
   "cell_type": "code",
   "execution_count": null,
   "metadata": {},
   "outputs": [],
   "source": [
    "def evaluator_ar(worldmodel, probes, token_pooling, val_dataloader, num_hist, num_ar_pred):\n",
    "    \n",
    "    worldmodel.eval()\n",
    "    token_pooling.eval()\n",
    "    if use_post_vq:\n",
    "        codebook = worldmodel.encoder.quantize.get_codebook_entry\n",
    "    \n",
    "    for batch in tqdm(val_dataloader):\n",
    "        image, label, _ = batch\n",
    "        with torch.no_grad():\n",
    "            \n",
    "            z_pred = worldmodel.rollout({'visual': image[:, :num_hist].cuda()},num_ar_pred)\n",
    "            z_pred = z_pred[:, num_hist:, ...]\n",
    "            #z_pred : b num_ar_pred n d\n",
    "\n",
    "            if worldmodel.use_post_vq and worldmodel.input_indices: # z_pred is indices\n",
    "                z_pred = z_pred.squeeze(-1)\n",
    "                # b num_ar_pred n\n",
    "                z_pred_quantized=  rearrange(codebook(z_pred.flatten(), (len(z_pred)*num_ar_pred, 4,4,96)),'(b t n) d -> (b t) n d', b=len(z_pred), t=num_ar_pred)\n",
    "                z_pred_pooled = token_pooling(z_pred_quantized) # (b t) d\n",
    "\n",
    "            else:\n",
    "                z_pred_pooled = token_pooling(rearrange(z_pred, 'b t n d -> (b t) n d'))\n",
    "                \n",
    "            #z_pred_pooled (b t) d\n",
    "            label_last = label[:, num_hist:num_hist+num_ar_pred, 0].cuda()\n",
    "            test_accuracies = [[] for _ in range(num_ar_pred)]\n",
    "            for i in range(len(num_classes_list)):\n",
    "                output = probes[i](z_pred_pooled)\n",
    "                #print(output.shape)\n",
    "                preds = rearrange(output.argmax(-1),'(b t) -> b t', b=len(z_pred))\n",
    "                #print(preds, label_last[:, i])\n",
    "                accuracies = (preds == label_last[:, :, i]).float()\n",
    "                for ts in range(num_ar_pred):\n",
    "                    test_accuracies[ts].append(accuracies[:, ts].mean().item())\n",
    "                    \n",
    "                    #print(f\"Task {i+1} Accuracy: {accuracy.item():.4f}\")\n",
    "    accs = [[0]*num_ar_pred for _ in num_classes_list]\n",
    "    \n",
    "    for i in range(len(num_classes_list)):\n",
    "        for ts in range(num_ar_pred):\n",
    "            s = test_accuracies[ts][i::len(num_classes_list)]\n",
    "            _ac=sum(s)/len(s)\n",
    "            accs[i][ts]=_ac\n",
    "            print(f\"Task {i+1:02d} Accuracy future +{ts+1:02d}: {_ac:.4f}\")\n",
    "        print()\n",
    "    return accs"
   ]
  },
  {
   "cell_type": "code",
   "execution_count": 60,
   "metadata": {},
   "outputs": [],
   "source": [
    "def evaluator_ar_inf(worldmodel, probes, token_pooling, val_dataloader, num_hist, num_ar_pred):\n",
    "    \n",
    "    worldmodel.eval()\n",
    "    token_pooling.eval()\n",
    "    if use_post_vq:\n",
    "        codebook = worldmodel.encoder.quantize.embedding\n",
    "    \n",
    "    rep = (num_hist+num_ar_pred)//84+1\n",
    "    mses = torch.zeros(num_ar_pred)\n",
    "    tot_p = 0\n",
    "    for batch in tqdm(val_dataloader):\n",
    "        image, label, _ = batch\n",
    "        with torch.no_grad():\n",
    "            \n",
    "            z_pred = worldmodel.rollout({'visual': image[:, :num_hist].cuda()},num_ar_pred,inc=num_hist)\n",
    "            #print(z_pred.shape)\n",
    "            z_pred = z_pred[:, num_hist:, ...]\n",
    "            #z_pred : b num_ar_pred n d\n",
    "            z_target = worldmodel.encode({'visual': image.cuda()})\n",
    "            z_ = []\n",
    "            l_ = []\n",
    "            \n",
    "            for zz, ll in zip(z_target, label):\n",
    "                if ll[0, 0, 0] == ll[7, 0, 0]:\n",
    "                    ll = ll[:7].repeat(12, 1, 1)\n",
    "                    zz = zz[:7].repeat(12, 1, 1)\n",
    "                elif ll[0, 0, 0] == ll[4, 0, 0]:\n",
    "                    ll = ll[:4].repeat(21, 1, 1)\n",
    "                    zz = zz[:4].repeat(21, 1, 1)\n",
    "                elif ll[0, 0, 0] == ll[3, 0, 0]:\n",
    "                    ll = ll[:3].repeat(28, 1, 1)\n",
    "                    zz = zz[:3].repeat(28, 1, 1)\n",
    "                else:\n",
    "                    print('what?')\n",
    "                    print(ll)\n",
    "                z_.append(zz)\n",
    "                l_.append(ll)\n",
    "            z_target = torch.stack(z_, dim=0)\n",
    "            label = torch.stack(l_, dim=0)\n",
    "            z_target = z_target.repeat(1, rep, 1, 1)[:,num_hist:num_hist+num_ar_pred]\n",
    "\n",
    "            #z_pred_pooled (b t) d\n",
    "            label = label.repeat(1, rep ,1,1)\n",
    "            label_last = label[:, num_hist:num_hist+num_ar_pred, 0].cuda()\n",
    "\n",
    "            tot_p+=len(image)\n",
    "            mses += F.mse_loss(z_pred, z_target,reduction='none').sum((0, 2, 3)).cpu()\n",
    "            if worldmodel.use_post_vq and worldmodel.input_indices: # z_pred is indices\n",
    "                z_pred = z_pred.squeeze(-1)\n",
    "                # b num_ar_pred n\n",
    "                z_pred_quantized=  rearrange(codebook(z_pred.flatten()),'(b t n) d -> (b t) n d', b=len(z_pred), t=num_ar_pred)\n",
    "                z_pred_pooled = token_pooling(z_pred_quantized) # (b t) d\n",
    "\n",
    "            else:\n",
    "                z_pred_pooled = token_pooling(rearrange(z_pred, 'b t n d -> (b t) n d'))\n",
    "            test_accuracies = [[] for _ in range(num_ar_pred)]\n",
    "            for i in range(len(num_classes_list)):\n",
    "                output = probes[i](z_pred_pooled)\n",
    "                #print(output.shape)\n",
    "                preds = rearrange(output.argmax(-1),'(b t) -> b t', b=len(z_pred))\n",
    "                #print(preds, label_last[:, i])\n",
    "                accuracies = (preds == label_last[:, :, i]).float()\n",
    "                for ts in range(num_ar_pred):\n",
    "                    test_accuracies[ts].append(accuracies[:, ts].mean().item())\n",
    "                    \n",
    "                    #print(f\"Task {i+1} Accuracy: {accuracy.item():.4f}\")\n",
    "    accs = [[0]*num_ar_pred for _ in num_classes_list]\n",
    "    \n",
    "    for i in range(len(num_classes_list)):\n",
    "        for ts in range(num_ar_pred):\n",
    "            s = test_accuracies[ts][i::len(num_classes_list)]\n",
    "            _ac=sum(s)/len(s)\n",
    "            accs[i][ts]=_ac\n",
    "            print(f\"Task {i+1:02d} Accuracy future +{ts+1:02d}: {_ac:.4f}\")\n",
    "        print()\n",
    "    return accs, (mses/tot_p).numpy()"
   ]
  },
  {
   "cell_type": "code",
   "execution_count": 61,
   "metadata": {},
   "outputs": [
    {
     "name": "stderr",
     "output_type": "stream",
     "text": [
      "Global seed set to 2024\n",
      "  0%|          | 0/50 [00:00<?, ?it/s]"
     ]
    },
    {
     "name": "stderr",
     "output_type": "stream",
     "text": [
      "/tmp/ipykernel_228994/221817842.py:47: UserWarning: Using a target size (torch.Size([128, 200, 16, 96])) that is different to the input size (torch.Size([128, 200, 16, 1])). This will likely lead to incorrect results due to broadcasting. Please ensure they have the same size.\n",
      "  mses += F.mse_loss(z_pred, z_target,reduction='none').sum((0, 2, 3)).cpu()\n",
      "100%|██████████| 50/50 [00:35<00:00,  1.40it/s]\n"
     ]
    },
    {
     "name": "stdout",
     "output_type": "stream",
     "text": [
      "Task 01 Accuracy future +01: 0.7578\n",
      "Task 01 Accuracy future +02: 0.6953\n",
      "Task 01 Accuracy future +03: 0.7188\n",
      "Task 01 Accuracy future +04: 0.9453\n",
      "Task 01 Accuracy future +05: 0.7734\n",
      "Task 01 Accuracy future +06: 0.7266\n",
      "Task 01 Accuracy future +07: 0.7266\n",
      "Task 01 Accuracy future +08: 0.7031\n",
      "Task 01 Accuracy future +09: 0.7500\n",
      "Task 01 Accuracy future +10: 0.7031\n",
      "Task 01 Accuracy future +11: 0.7656\n",
      "Task 01 Accuracy future +12: 0.7500\n",
      "Task 01 Accuracy future +13: 0.7734\n",
      "Task 01 Accuracy future +14: 0.7188\n",
      "Task 01 Accuracy future +15: 0.7500\n",
      "Task 01 Accuracy future +16: 0.6953\n",
      "Task 01 Accuracy future +17: 0.7109\n",
      "Task 01 Accuracy future +18: 0.7969\n",
      "Task 01 Accuracy future +19: 0.7500\n",
      "Task 01 Accuracy future +20: 0.7188\n",
      "Task 01 Accuracy future +21: 0.7422\n",
      "Task 01 Accuracy future +22: 0.7266\n",
      "Task 01 Accuracy future +23: 0.7422\n",
      "Task 01 Accuracy future +24: 0.7031\n",
      "Task 01 Accuracy future +25: 0.7812\n",
      "Task 01 Accuracy future +26: 0.7188\n",
      "Task 01 Accuracy future +27: 0.7344\n",
      "Task 01 Accuracy future +28: 0.7031\n",
      "Task 01 Accuracy future +29: 0.7422\n",
      "Task 01 Accuracy future +30: 0.7266\n",
      "Task 01 Accuracy future +31: 0.7109\n",
      "Task 01 Accuracy future +32: 0.8203\n",
      "Task 01 Accuracy future +33: 0.7656\n",
      "Task 01 Accuracy future +34: 0.7188\n",
      "Task 01 Accuracy future +35: 0.7266\n",
      "Task 01 Accuracy future +36: 0.7109\n",
      "Task 01 Accuracy future +37: 0.7422\n",
      "Task 01 Accuracy future +38: 0.6875\n",
      "Task 01 Accuracy future +39: 0.7891\n",
      "Task 01 Accuracy future +40: 0.7344\n",
      "Task 01 Accuracy future +41: 0.7578\n",
      "Task 01 Accuracy future +42: 0.7266\n",
      "Task 01 Accuracy future +43: 0.7422\n",
      "Task 01 Accuracy future +44: 0.6953\n",
      "Task 01 Accuracy future +45: 0.7266\n",
      "Task 01 Accuracy future +46: 0.7812\n",
      "Task 01 Accuracy future +47: 0.7422\n",
      "Task 01 Accuracy future +48: 0.7188\n",
      "Task 01 Accuracy future +49: 0.7344\n",
      "Task 01 Accuracy future +50: 0.7188\n",
      "Task 01 Accuracy future +51: 0.7578\n",
      "Task 01 Accuracy future +52: 0.6953\n",
      "Task 01 Accuracy future +53: 0.7734\n",
      "Task 01 Accuracy future +54: 0.7344\n",
      "Task 01 Accuracy future +55: 0.7344\n",
      "Task 01 Accuracy future +56: 0.6953\n",
      "Task 01 Accuracy future +57: 0.7578\n",
      "Task 01 Accuracy future +58: 0.7188\n",
      "Task 01 Accuracy future +59: 0.7031\n",
      "Task 01 Accuracy future +60: 0.8438\n",
      "Task 01 Accuracy future +61: 0.7578\n",
      "Task 01 Accuracy future +62: 0.7109\n",
      "Task 01 Accuracy future +63: 0.7422\n",
      "Task 01 Accuracy future +64: 0.7031\n",
      "Task 01 Accuracy future +65: 0.7344\n",
      "Task 01 Accuracy future +66: 0.7031\n",
      "Task 01 Accuracy future +67: 0.7734\n",
      "Task 01 Accuracy future +68: 0.7266\n",
      "Task 01 Accuracy future +69: 0.7656\n",
      "Task 01 Accuracy future +70: 0.7188\n",
      "Task 01 Accuracy future +71: 0.7344\n",
      "Task 01 Accuracy future +72: 0.7109\n",
      "Task 01 Accuracy future +73: 0.7188\n",
      "Task 01 Accuracy future +74: 0.7734\n",
      "Task 01 Accuracy future +75: 0.7578\n",
      "Task 01 Accuracy future +76: 0.7188\n",
      "Task 01 Accuracy future +77: 0.7266\n",
      "Task 01 Accuracy future +78: 0.7344\n",
      "Task 01 Accuracy future +79: 0.7500\n",
      "Task 01 Accuracy future +80: 0.6875\n",
      "Task 01 Accuracy future +81: 0.7969\n",
      "Task 01 Accuracy future +82: 0.7266\n",
      "Task 01 Accuracy future +83: 0.7266\n",
      "Task 01 Accuracy future +84: 0.7109\n",
      "Task 01 Accuracy future +85: 0.7500\n",
      "Task 01 Accuracy future +86: 0.7109\n",
      "Task 01 Accuracy future +87: 0.7188\n",
      "Task 01 Accuracy future +88: 0.8281\n",
      "Task 01 Accuracy future +89: 0.7500\n",
      "Task 01 Accuracy future +90: 0.7188\n",
      "Task 01 Accuracy future +91: 0.7344\n",
      "Task 01 Accuracy future +92: 0.6953\n",
      "Task 01 Accuracy future +93: 0.7500\n",
      "Task 01 Accuracy future +94: 0.6953\n",
      "Task 01 Accuracy future +95: 0.7656\n",
      "Task 01 Accuracy future +96: 0.7422\n",
      "Task 01 Accuracy future +97: 0.7656\n",
      "Task 01 Accuracy future +98: 0.7109\n",
      "Task 01 Accuracy future +99: 0.7500\n",
      "Task 01 Accuracy future +100: 0.7031\n",
      "Task 01 Accuracy future +101: 0.7109\n",
      "Task 01 Accuracy future +102: 0.7969\n",
      "Task 01 Accuracy future +103: 0.7500\n",
      "Task 01 Accuracy future +104: 0.7109\n",
      "Task 01 Accuracy future +105: 0.7422\n",
      "Task 01 Accuracy future +106: 0.7266\n",
      "Task 01 Accuracy future +107: 0.7422\n",
      "Task 01 Accuracy future +108: 0.7031\n",
      "Task 01 Accuracy future +109: 0.7812\n",
      "Task 01 Accuracy future +110: 0.7188\n",
      "Task 01 Accuracy future +111: 0.7344\n",
      "Task 01 Accuracy future +112: 0.7031\n",
      "Task 01 Accuracy future +113: 0.7422\n",
      "Task 01 Accuracy future +114: 0.7266\n",
      "Task 01 Accuracy future +115: 0.7109\n",
      "Task 01 Accuracy future +116: 0.8203\n",
      "Task 01 Accuracy future +117: 0.7656\n",
      "Task 01 Accuracy future +118: 0.7188\n",
      "Task 01 Accuracy future +119: 0.7266\n",
      "Task 01 Accuracy future +120: 0.7109\n",
      "Task 01 Accuracy future +121: 0.7422\n",
      "Task 01 Accuracy future +122: 0.6875\n",
      "Task 01 Accuracy future +123: 0.7891\n",
      "Task 01 Accuracy future +124: 0.7344\n",
      "Task 01 Accuracy future +125: 0.7578\n",
      "Task 01 Accuracy future +126: 0.7266\n",
      "Task 01 Accuracy future +127: 0.7422\n",
      "Task 01 Accuracy future +128: 0.6953\n",
      "Task 01 Accuracy future +129: 0.7266\n",
      "Task 01 Accuracy future +130: 0.7812\n",
      "Task 01 Accuracy future +131: 0.7422\n",
      "Task 01 Accuracy future +132: 0.7188\n",
      "Task 01 Accuracy future +133: 0.7344\n",
      "Task 01 Accuracy future +134: 0.7188\n",
      "Task 01 Accuracy future +135: 0.7578\n",
      "Task 01 Accuracy future +136: 0.6953\n",
      "Task 01 Accuracy future +137: 0.7734\n",
      "Task 01 Accuracy future +138: 0.7344\n",
      "Task 01 Accuracy future +139: 0.7344\n",
      "Task 01 Accuracy future +140: 0.6953\n",
      "Task 01 Accuracy future +141: 0.7578\n",
      "Task 01 Accuracy future +142: 0.7188\n",
      "Task 01 Accuracy future +143: 0.7031\n",
      "Task 01 Accuracy future +144: 0.8438\n",
      "Task 01 Accuracy future +145: 0.7578\n",
      "Task 01 Accuracy future +146: 0.7109\n",
      "Task 01 Accuracy future +147: 0.7422\n",
      "Task 01 Accuracy future +148: 0.7031\n",
      "Task 01 Accuracy future +149: 0.7344\n",
      "Task 01 Accuracy future +150: 0.7031\n",
      "Task 01 Accuracy future +151: 0.7734\n",
      "Task 01 Accuracy future +152: 0.7266\n",
      "Task 01 Accuracy future +153: 0.7656\n",
      "Task 01 Accuracy future +154: 0.7188\n",
      "Task 01 Accuracy future +155: 0.7344\n",
      "Task 01 Accuracy future +156: 0.7109\n",
      "Task 01 Accuracy future +157: 0.7188\n",
      "Task 01 Accuracy future +158: 0.7734\n",
      "Task 01 Accuracy future +159: 0.7578\n",
      "Task 01 Accuracy future +160: 0.7188\n",
      "Task 01 Accuracy future +161: 0.7266\n",
      "Task 01 Accuracy future +162: 0.7344\n",
      "Task 01 Accuracy future +163: 0.7500\n",
      "Task 01 Accuracy future +164: 0.6875\n",
      "Task 01 Accuracy future +165: 0.7969\n",
      "Task 01 Accuracy future +166: 0.7266\n",
      "Task 01 Accuracy future +167: 0.7266\n",
      "Task 01 Accuracy future +168: 0.7109\n",
      "Task 01 Accuracy future +169: 0.7500\n",
      "Task 01 Accuracy future +170: 0.7109\n",
      "Task 01 Accuracy future +171: 0.7188\n",
      "Task 01 Accuracy future +172: 0.8281\n",
      "Task 01 Accuracy future +173: 0.7500\n",
      "Task 01 Accuracy future +174: 0.7188\n",
      "Task 01 Accuracy future +175: 0.7344\n",
      "Task 01 Accuracy future +176: 0.6953\n",
      "Task 01 Accuracy future +177: 0.7500\n",
      "Task 01 Accuracy future +178: 0.6953\n",
      "Task 01 Accuracy future +179: 0.7656\n",
      "Task 01 Accuracy future +180: 0.7422\n",
      "Task 01 Accuracy future +181: 0.7656\n",
      "Task 01 Accuracy future +182: 0.7109\n",
      "Task 01 Accuracy future +183: 0.7500\n",
      "Task 01 Accuracy future +184: 0.7031\n",
      "Task 01 Accuracy future +185: 0.7109\n",
      "Task 01 Accuracy future +186: 0.7969\n",
      "Task 01 Accuracy future +187: 0.7500\n",
      "Task 01 Accuracy future +188: 0.7109\n",
      "Task 01 Accuracy future +189: 0.7422\n",
      "Task 01 Accuracy future +190: 0.7266\n",
      "Task 01 Accuracy future +191: 0.7422\n",
      "Task 01 Accuracy future +192: 0.7031\n",
      "Task 01 Accuracy future +193: 0.7812\n",
      "Task 01 Accuracy future +194: 0.7188\n",
      "Task 01 Accuracy future +195: 0.7344\n",
      "Task 01 Accuracy future +196: 0.7031\n",
      "Task 01 Accuracy future +197: 0.7422\n",
      "Task 01 Accuracy future +198: 0.7266\n",
      "Task 01 Accuracy future +199: 0.7109\n",
      "Task 01 Accuracy future +200: 0.8203\n",
      "\n",
      "Task 02 Accuracy future +01: 0.2812\n",
      "Task 02 Accuracy future +02: 0.3125\n",
      "Task 02 Accuracy future +03: 0.2891\n",
      "Task 02 Accuracy future +04: 0.3203\n",
      "Task 02 Accuracy future +05: 0.2891\n",
      "Task 02 Accuracy future +06: 0.3125\n",
      "Task 02 Accuracy future +07: 0.2891\n",
      "Task 02 Accuracy future +08: 0.3047\n",
      "Task 02 Accuracy future +09: 0.2812\n",
      "Task 02 Accuracy future +10: 0.3125\n",
      "Task 02 Accuracy future +11: 0.2812\n",
      "Task 02 Accuracy future +12: 0.3047\n",
      "Task 02 Accuracy future +13: 0.2812\n",
      "Task 02 Accuracy future +14: 0.3047\n",
      "Task 02 Accuracy future +15: 0.2812\n",
      "Task 02 Accuracy future +16: 0.3125\n",
      "Task 02 Accuracy future +17: 0.2734\n",
      "Task 02 Accuracy future +18: 0.2969\n",
      "Task 02 Accuracy future +19: 0.2734\n",
      "Task 02 Accuracy future +20: 0.3125\n",
      "Task 02 Accuracy future +21: 0.2734\n",
      "Task 02 Accuracy future +22: 0.2969\n",
      "Task 02 Accuracy future +23: 0.2734\n",
      "Task 02 Accuracy future +24: 0.3125\n",
      "Task 02 Accuracy future +25: 0.2734\n",
      "Task 02 Accuracy future +26: 0.2969\n",
      "Task 02 Accuracy future +27: 0.2734\n",
      "Task 02 Accuracy future +28: 0.3125\n",
      "Task 02 Accuracy future +29: 0.2734\n",
      "Task 02 Accuracy future +30: 0.2969\n",
      "Task 02 Accuracy future +31: 0.2734\n",
      "Task 02 Accuracy future +32: 0.3125\n",
      "Task 02 Accuracy future +33: 0.2734\n",
      "Task 02 Accuracy future +34: 0.2969\n",
      "Task 02 Accuracy future +35: 0.2734\n",
      "Task 02 Accuracy future +36: 0.3125\n",
      "Task 02 Accuracy future +37: 0.2734\n",
      "Task 02 Accuracy future +38: 0.2969\n",
      "Task 02 Accuracy future +39: 0.2734\n",
      "Task 02 Accuracy future +40: 0.3125\n",
      "Task 02 Accuracy future +41: 0.2734\n",
      "Task 02 Accuracy future +42: 0.2969\n",
      "Task 02 Accuracy future +43: 0.2734\n",
      "Task 02 Accuracy future +44: 0.3125\n",
      "Task 02 Accuracy future +45: 0.2734\n",
      "Task 02 Accuracy future +46: 0.2969\n",
      "Task 02 Accuracy future +47: 0.2734\n",
      "Task 02 Accuracy future +48: 0.3125\n",
      "Task 02 Accuracy future +49: 0.2734\n",
      "Task 02 Accuracy future +50: 0.2969\n",
      "Task 02 Accuracy future +51: 0.2734\n",
      "Task 02 Accuracy future +52: 0.3125\n",
      "Task 02 Accuracy future +53: 0.2734\n",
      "Task 02 Accuracy future +54: 0.2969\n",
      "Task 02 Accuracy future +55: 0.2734\n",
      "Task 02 Accuracy future +56: 0.3125\n",
      "Task 02 Accuracy future +57: 0.2734\n",
      "Task 02 Accuracy future +58: 0.2969\n",
      "Task 02 Accuracy future +59: 0.2734\n",
      "Task 02 Accuracy future +60: 0.3125\n",
      "Task 02 Accuracy future +61: 0.2734\n",
      "Task 02 Accuracy future +62: 0.2969\n",
      "Task 02 Accuracy future +63: 0.2734\n",
      "Task 02 Accuracy future +64: 0.3125\n",
      "Task 02 Accuracy future +65: 0.2734\n",
      "Task 02 Accuracy future +66: 0.2969\n",
      "Task 02 Accuracy future +67: 0.2734\n",
      "Task 02 Accuracy future +68: 0.3125\n",
      "Task 02 Accuracy future +69: 0.2734\n",
      "Task 02 Accuracy future +70: 0.2969\n",
      "Task 02 Accuracy future +71: 0.2734\n",
      "Task 02 Accuracy future +72: 0.3125\n",
      "Task 02 Accuracy future +73: 0.2734\n",
      "Task 02 Accuracy future +74: 0.2969\n",
      "Task 02 Accuracy future +75: 0.2734\n",
      "Task 02 Accuracy future +76: 0.3125\n",
      "Task 02 Accuracy future +77: 0.2734\n",
      "Task 02 Accuracy future +78: 0.2969\n",
      "Task 02 Accuracy future +79: 0.2734\n",
      "Task 02 Accuracy future +80: 0.3125\n",
      "Task 02 Accuracy future +81: 0.2734\n",
      "Task 02 Accuracy future +82: 0.2969\n",
      "Task 02 Accuracy future +83: 0.2734\n",
      "Task 02 Accuracy future +84: 0.3125\n",
      "Task 02 Accuracy future +85: 0.2734\n",
      "Task 02 Accuracy future +86: 0.2969\n",
      "Task 02 Accuracy future +87: 0.2734\n",
      "Task 02 Accuracy future +88: 0.3125\n",
      "Task 02 Accuracy future +89: 0.2734\n",
      "Task 02 Accuracy future +90: 0.2969\n",
      "Task 02 Accuracy future +91: 0.2734\n",
      "Task 02 Accuracy future +92: 0.3125\n",
      "Task 02 Accuracy future +93: 0.2734\n",
      "Task 02 Accuracy future +94: 0.2969\n",
      "Task 02 Accuracy future +95: 0.2734\n",
      "Task 02 Accuracy future +96: 0.3125\n",
      "Task 02 Accuracy future +97: 0.2734\n",
      "Task 02 Accuracy future +98: 0.2969\n",
      "Task 02 Accuracy future +99: 0.2734\n",
      "Task 02 Accuracy future +100: 0.3125\n",
      "Task 02 Accuracy future +101: 0.2734\n",
      "Task 02 Accuracy future +102: 0.2969\n",
      "Task 02 Accuracy future +103: 0.2734\n",
      "Task 02 Accuracy future +104: 0.3125\n",
      "Task 02 Accuracy future +105: 0.2734\n",
      "Task 02 Accuracy future +106: 0.2969\n",
      "Task 02 Accuracy future +107: 0.2734\n",
      "Task 02 Accuracy future +108: 0.3125\n",
      "Task 02 Accuracy future +109: 0.2734\n",
      "Task 02 Accuracy future +110: 0.2969\n",
      "Task 02 Accuracy future +111: 0.2734\n",
      "Task 02 Accuracy future +112: 0.3125\n",
      "Task 02 Accuracy future +113: 0.2734\n",
      "Task 02 Accuracy future +114: 0.2969\n",
      "Task 02 Accuracy future +115: 0.2734\n",
      "Task 02 Accuracy future +116: 0.3125\n",
      "Task 02 Accuracy future +117: 0.2734\n",
      "Task 02 Accuracy future +118: 0.2969\n",
      "Task 02 Accuracy future +119: 0.2734\n",
      "Task 02 Accuracy future +120: 0.3125\n",
      "Task 02 Accuracy future +121: 0.2734\n",
      "Task 02 Accuracy future +122: 0.2969\n",
      "Task 02 Accuracy future +123: 0.2734\n",
      "Task 02 Accuracy future +124: 0.3125\n",
      "Task 02 Accuracy future +125: 0.2734\n",
      "Task 02 Accuracy future +126: 0.2969\n",
      "Task 02 Accuracy future +127: 0.2734\n",
      "Task 02 Accuracy future +128: 0.3125\n",
      "Task 02 Accuracy future +129: 0.2734\n",
      "Task 02 Accuracy future +130: 0.2969\n",
      "Task 02 Accuracy future +131: 0.2734\n",
      "Task 02 Accuracy future +132: 0.3125\n",
      "Task 02 Accuracy future +133: 0.2734\n",
      "Task 02 Accuracy future +134: 0.2969\n",
      "Task 02 Accuracy future +135: 0.2734\n",
      "Task 02 Accuracy future +136: 0.3125\n",
      "Task 02 Accuracy future +137: 0.2734\n",
      "Task 02 Accuracy future +138: 0.2969\n",
      "Task 02 Accuracy future +139: 0.2734\n",
      "Task 02 Accuracy future +140: 0.3125\n",
      "Task 02 Accuracy future +141: 0.2734\n",
      "Task 02 Accuracy future +142: 0.2969\n",
      "Task 02 Accuracy future +143: 0.2734\n",
      "Task 02 Accuracy future +144: 0.3125\n",
      "Task 02 Accuracy future +145: 0.2734\n",
      "Task 02 Accuracy future +146: 0.2969\n",
      "Task 02 Accuracy future +147: 0.2734\n",
      "Task 02 Accuracy future +148: 0.3125\n",
      "Task 02 Accuracy future +149: 0.2734\n",
      "Task 02 Accuracy future +150: 0.2969\n",
      "Task 02 Accuracy future +151: 0.2734\n",
      "Task 02 Accuracy future +152: 0.3125\n",
      "Task 02 Accuracy future +153: 0.2734\n",
      "Task 02 Accuracy future +154: 0.2969\n",
      "Task 02 Accuracy future +155: 0.2734\n",
      "Task 02 Accuracy future +156: 0.3125\n",
      "Task 02 Accuracy future +157: 0.2734\n",
      "Task 02 Accuracy future +158: 0.2969\n",
      "Task 02 Accuracy future +159: 0.2734\n",
      "Task 02 Accuracy future +160: 0.3125\n",
      "Task 02 Accuracy future +161: 0.2734\n",
      "Task 02 Accuracy future +162: 0.2969\n",
      "Task 02 Accuracy future +163: 0.2734\n",
      "Task 02 Accuracy future +164: 0.3125\n",
      "Task 02 Accuracy future +165: 0.2734\n",
      "Task 02 Accuracy future +166: 0.2969\n",
      "Task 02 Accuracy future +167: 0.2734\n",
      "Task 02 Accuracy future +168: 0.3125\n",
      "Task 02 Accuracy future +169: 0.2734\n",
      "Task 02 Accuracy future +170: 0.2969\n",
      "Task 02 Accuracy future +171: 0.2734\n",
      "Task 02 Accuracy future +172: 0.3125\n",
      "Task 02 Accuracy future +173: 0.2734\n",
      "Task 02 Accuracy future +174: 0.2969\n",
      "Task 02 Accuracy future +175: 0.2734\n",
      "Task 02 Accuracy future +176: 0.3125\n",
      "Task 02 Accuracy future +177: 0.2734\n",
      "Task 02 Accuracy future +178: 0.2969\n",
      "Task 02 Accuracy future +179: 0.2734\n",
      "Task 02 Accuracy future +180: 0.3125\n",
      "Task 02 Accuracy future +181: 0.2734\n",
      "Task 02 Accuracy future +182: 0.2969\n",
      "Task 02 Accuracy future +183: 0.2734\n",
      "Task 02 Accuracy future +184: 0.3125\n",
      "Task 02 Accuracy future +185: 0.2734\n",
      "Task 02 Accuracy future +186: 0.2969\n",
      "Task 02 Accuracy future +187: 0.2734\n",
      "Task 02 Accuracy future +188: 0.3125\n",
      "Task 02 Accuracy future +189: 0.2734\n",
      "Task 02 Accuracy future +190: 0.2969\n",
      "Task 02 Accuracy future +191: 0.2734\n",
      "Task 02 Accuracy future +192: 0.3125\n",
      "Task 02 Accuracy future +193: 0.2734\n",
      "Task 02 Accuracy future +194: 0.2969\n",
      "Task 02 Accuracy future +195: 0.2734\n",
      "Task 02 Accuracy future +196: 0.3125\n",
      "Task 02 Accuracy future +197: 0.2734\n",
      "Task 02 Accuracy future +198: 0.2969\n",
      "Task 02 Accuracy future +199: 0.2734\n",
      "Task 02 Accuracy future +200: 0.3125\n",
      "\n",
      "Task 03 Accuracy future +01: 0.9922\n",
      "Task 03 Accuracy future +02: 0.9766\n",
      "Task 03 Accuracy future +03: 0.9844\n",
      "Task 03 Accuracy future +04: 0.9766\n",
      "Task 03 Accuracy future +05: 0.9922\n",
      "Task 03 Accuracy future +06: 0.9766\n",
      "Task 03 Accuracy future +07: 0.9922\n",
      "Task 03 Accuracy future +08: 0.9844\n",
      "Task 03 Accuracy future +09: 0.9844\n",
      "Task 03 Accuracy future +10: 0.9766\n",
      "Task 03 Accuracy future +11: 0.9844\n",
      "Task 03 Accuracy future +12: 0.9844\n",
      "Task 03 Accuracy future +13: 0.9844\n",
      "Task 03 Accuracy future +14: 0.9766\n",
      "Task 03 Accuracy future +15: 0.9844\n",
      "Task 03 Accuracy future +16: 0.9844\n",
      "Task 03 Accuracy future +17: 0.9844\n",
      "Task 03 Accuracy future +18: 0.9766\n",
      "Task 03 Accuracy future +19: 0.9844\n",
      "Task 03 Accuracy future +20: 0.9844\n",
      "Task 03 Accuracy future +21: 0.9844\n",
      "Task 03 Accuracy future +22: 0.9766\n",
      "Task 03 Accuracy future +23: 0.9844\n",
      "Task 03 Accuracy future +24: 0.9844\n",
      "Task 03 Accuracy future +25: 0.9844\n",
      "Task 03 Accuracy future +26: 0.9766\n",
      "Task 03 Accuracy future +27: 0.9844\n",
      "Task 03 Accuracy future +28: 0.9844\n",
      "Task 03 Accuracy future +29: 0.9844\n",
      "Task 03 Accuracy future +30: 0.9766\n",
      "Task 03 Accuracy future +31: 0.9844\n",
      "Task 03 Accuracy future +32: 0.9844\n",
      "Task 03 Accuracy future +33: 0.9844\n",
      "Task 03 Accuracy future +34: 0.9766\n",
      "Task 03 Accuracy future +35: 0.9844\n",
      "Task 03 Accuracy future +36: 0.9844\n",
      "Task 03 Accuracy future +37: 0.9844\n",
      "Task 03 Accuracy future +38: 0.9766\n",
      "Task 03 Accuracy future +39: 0.9844\n",
      "Task 03 Accuracy future +40: 0.9844\n",
      "Task 03 Accuracy future +41: 0.9844\n",
      "Task 03 Accuracy future +42: 0.9766\n",
      "Task 03 Accuracy future +43: 0.9844\n",
      "Task 03 Accuracy future +44: 0.9844\n",
      "Task 03 Accuracy future +45: 0.9844\n",
      "Task 03 Accuracy future +46: 0.9766\n",
      "Task 03 Accuracy future +47: 0.9844\n",
      "Task 03 Accuracy future +48: 0.9844\n",
      "Task 03 Accuracy future +49: 0.9844\n",
      "Task 03 Accuracy future +50: 0.9766\n",
      "Task 03 Accuracy future +51: 0.9844\n",
      "Task 03 Accuracy future +52: 0.9844\n",
      "Task 03 Accuracy future +53: 0.9844\n",
      "Task 03 Accuracy future +54: 0.9766\n",
      "Task 03 Accuracy future +55: 0.9844\n",
      "Task 03 Accuracy future +56: 0.9844\n",
      "Task 03 Accuracy future +57: 0.9844\n",
      "Task 03 Accuracy future +58: 0.9766\n",
      "Task 03 Accuracy future +59: 0.9844\n",
      "Task 03 Accuracy future +60: 0.9844\n",
      "Task 03 Accuracy future +61: 0.9844\n",
      "Task 03 Accuracy future +62: 0.9766\n",
      "Task 03 Accuracy future +63: 0.9844\n",
      "Task 03 Accuracy future +64: 0.9844\n",
      "Task 03 Accuracy future +65: 0.9844\n",
      "Task 03 Accuracy future +66: 0.9766\n",
      "Task 03 Accuracy future +67: 0.9844\n",
      "Task 03 Accuracy future +68: 0.9844\n",
      "Task 03 Accuracy future +69: 0.9844\n",
      "Task 03 Accuracy future +70: 0.9766\n",
      "Task 03 Accuracy future +71: 0.9844\n",
      "Task 03 Accuracy future +72: 0.9844\n",
      "Task 03 Accuracy future +73: 0.9844\n",
      "Task 03 Accuracy future +74: 0.9766\n",
      "Task 03 Accuracy future +75: 0.9844\n",
      "Task 03 Accuracy future +76: 0.9844\n",
      "Task 03 Accuracy future +77: 0.9844\n",
      "Task 03 Accuracy future +78: 0.9766\n",
      "Task 03 Accuracy future +79: 0.9844\n",
      "Task 03 Accuracy future +80: 0.9844\n",
      "Task 03 Accuracy future +81: 0.9844\n",
      "Task 03 Accuracy future +82: 0.9766\n",
      "Task 03 Accuracy future +83: 0.9844\n",
      "Task 03 Accuracy future +84: 0.9844\n",
      "Task 03 Accuracy future +85: 0.9844\n",
      "Task 03 Accuracy future +86: 0.9766\n",
      "Task 03 Accuracy future +87: 0.9844\n",
      "Task 03 Accuracy future +88: 0.9844\n",
      "Task 03 Accuracy future +89: 0.9844\n",
      "Task 03 Accuracy future +90: 0.9766\n",
      "Task 03 Accuracy future +91: 0.9844\n",
      "Task 03 Accuracy future +92: 0.9844\n",
      "Task 03 Accuracy future +93: 0.9844\n",
      "Task 03 Accuracy future +94: 0.9766\n",
      "Task 03 Accuracy future +95: 0.9844\n",
      "Task 03 Accuracy future +96: 0.9844\n",
      "Task 03 Accuracy future +97: 0.9844\n",
      "Task 03 Accuracy future +98: 0.9766\n",
      "Task 03 Accuracy future +99: 0.9844\n",
      "Task 03 Accuracy future +100: 0.9844\n",
      "Task 03 Accuracy future +101: 0.9844\n",
      "Task 03 Accuracy future +102: 0.9766\n",
      "Task 03 Accuracy future +103: 0.9844\n",
      "Task 03 Accuracy future +104: 0.9844\n",
      "Task 03 Accuracy future +105: 0.9844\n",
      "Task 03 Accuracy future +106: 0.9766\n",
      "Task 03 Accuracy future +107: 0.9844\n",
      "Task 03 Accuracy future +108: 0.9844\n",
      "Task 03 Accuracy future +109: 0.9844\n",
      "Task 03 Accuracy future +110: 0.9766\n",
      "Task 03 Accuracy future +111: 0.9844\n",
      "Task 03 Accuracy future +112: 0.9844\n",
      "Task 03 Accuracy future +113: 0.9844\n",
      "Task 03 Accuracy future +114: 0.9766\n",
      "Task 03 Accuracy future +115: 0.9844\n",
      "Task 03 Accuracy future +116: 0.9844\n",
      "Task 03 Accuracy future +117: 0.9844\n",
      "Task 03 Accuracy future +118: 0.9766\n",
      "Task 03 Accuracy future +119: 0.9844\n",
      "Task 03 Accuracy future +120: 0.9844\n",
      "Task 03 Accuracy future +121: 0.9844\n",
      "Task 03 Accuracy future +122: 0.9766\n",
      "Task 03 Accuracy future +123: 0.9844\n",
      "Task 03 Accuracy future +124: 0.9844\n",
      "Task 03 Accuracy future +125: 0.9844\n",
      "Task 03 Accuracy future +126: 0.9766\n",
      "Task 03 Accuracy future +127: 0.9844\n",
      "Task 03 Accuracy future +128: 0.9844\n",
      "Task 03 Accuracy future +129: 0.9844\n",
      "Task 03 Accuracy future +130: 0.9766\n",
      "Task 03 Accuracy future +131: 0.9844\n",
      "Task 03 Accuracy future +132: 0.9844\n",
      "Task 03 Accuracy future +133: 0.9844\n",
      "Task 03 Accuracy future +134: 0.9766\n",
      "Task 03 Accuracy future +135: 0.9844\n",
      "Task 03 Accuracy future +136: 0.9844\n",
      "Task 03 Accuracy future +137: 0.9844\n",
      "Task 03 Accuracy future +138: 0.9766\n",
      "Task 03 Accuracy future +139: 0.9844\n",
      "Task 03 Accuracy future +140: 0.9844\n",
      "Task 03 Accuracy future +141: 0.9844\n",
      "Task 03 Accuracy future +142: 0.9766\n",
      "Task 03 Accuracy future +143: 0.9844\n",
      "Task 03 Accuracy future +144: 0.9844\n",
      "Task 03 Accuracy future +145: 0.9844\n",
      "Task 03 Accuracy future +146: 0.9766\n",
      "Task 03 Accuracy future +147: 0.9844\n",
      "Task 03 Accuracy future +148: 0.9844\n",
      "Task 03 Accuracy future +149: 0.9844\n",
      "Task 03 Accuracy future +150: 0.9766\n",
      "Task 03 Accuracy future +151: 0.9844\n",
      "Task 03 Accuracy future +152: 0.9844\n",
      "Task 03 Accuracy future +153: 0.9844\n",
      "Task 03 Accuracy future +154: 0.9766\n",
      "Task 03 Accuracy future +155: 0.9844\n",
      "Task 03 Accuracy future +156: 0.9844\n",
      "Task 03 Accuracy future +157: 0.9844\n",
      "Task 03 Accuracy future +158: 0.9766\n",
      "Task 03 Accuracy future +159: 0.9844\n",
      "Task 03 Accuracy future +160: 0.9844\n",
      "Task 03 Accuracy future +161: 0.9844\n",
      "Task 03 Accuracy future +162: 0.9766\n",
      "Task 03 Accuracy future +163: 0.9844\n",
      "Task 03 Accuracy future +164: 0.9844\n",
      "Task 03 Accuracy future +165: 0.9844\n",
      "Task 03 Accuracy future +166: 0.9766\n",
      "Task 03 Accuracy future +167: 0.9844\n",
      "Task 03 Accuracy future +168: 0.9844\n",
      "Task 03 Accuracy future +169: 0.9844\n",
      "Task 03 Accuracy future +170: 0.9766\n",
      "Task 03 Accuracy future +171: 0.9844\n",
      "Task 03 Accuracy future +172: 0.9844\n",
      "Task 03 Accuracy future +173: 0.9844\n",
      "Task 03 Accuracy future +174: 0.9766\n",
      "Task 03 Accuracy future +175: 0.9844\n",
      "Task 03 Accuracy future +176: 0.9844\n",
      "Task 03 Accuracy future +177: 0.9844\n",
      "Task 03 Accuracy future +178: 0.9766\n",
      "Task 03 Accuracy future +179: 0.9844\n",
      "Task 03 Accuracy future +180: 0.9844\n",
      "Task 03 Accuracy future +181: 0.9844\n",
      "Task 03 Accuracy future +182: 0.9766\n",
      "Task 03 Accuracy future +183: 0.9844\n",
      "Task 03 Accuracy future +184: 0.9844\n",
      "Task 03 Accuracy future +185: 0.9844\n",
      "Task 03 Accuracy future +186: 0.9766\n",
      "Task 03 Accuracy future +187: 0.9844\n",
      "Task 03 Accuracy future +188: 0.9844\n",
      "Task 03 Accuracy future +189: 0.9844\n",
      "Task 03 Accuracy future +190: 0.9766\n",
      "Task 03 Accuracy future +191: 0.9844\n",
      "Task 03 Accuracy future +192: 0.9844\n",
      "Task 03 Accuracy future +193: 0.9844\n",
      "Task 03 Accuracy future +194: 0.9766\n",
      "Task 03 Accuracy future +195: 0.9844\n",
      "Task 03 Accuracy future +196: 0.9844\n",
      "Task 03 Accuracy future +197: 0.9844\n",
      "Task 03 Accuracy future +198: 0.9766\n",
      "Task 03 Accuracy future +199: 0.9844\n",
      "Task 03 Accuracy future +200: 0.9844\n",
      "\n"
     ]
    },
    {
     "data": {
      "image/png": "[encoded data removed]",
      "text/plain": [
       "<Figure size 1000x500 with 1 Axes>"
      ]
     },
     "metadata": {},
     "output_type": "display_data"
    },
    {
     "data": {
      "image/png": "[encoded data removed]",
      "text/plain": [
       "<Figure size 1000x500 with 1 Axes>"
      ]
     },
     "metadata": {},
     "output_type": "display_data"
    }
   ],
   "source": [
    "\n",
    "seed_everything(2024, workers=True)\n",
    "# Load Validation Dataset\n",
    "# val_dataloader = DataLoader(\n",
    "#     hydra.utils.instantiate(cfg.dataset.valset),\n",
    "#     batch_size=cfg.dataset.batch_size, \n",
    "#     shuffle=False,\n",
    "#     num_workers=cfg.dataset.num_workers,\n",
    "#     pin_memory=False,\n",
    "#     )\n",
    "\n",
    "#evaluator_ar(wm, probes, aggregator, val_dataloader, num_hist, num_ar_pred=20)\n",
    "task,mses = evaluator_ar_inf(wm, probes,aggregator, val_dataloader, num_hist, num_ar_pred=200)\n",
    "import seaborn as sns \n",
    "import matplotlib.pyplot as plt\n",
    "sns.set_theme()\n",
    "plt.figure(figsize=(10, 5))\n",
    "sns.lineplot(task[0], label='D-JEPA Task 1', color='royalblue', linestyle='-')\n",
    "sns.lineplot(task[1], label='D-JEPA Task 2', color='royalblue', linestyle='-.')\n",
    "sns.lineplot(task[2], label='D-JEPA Task 3', color='royalblue', linestyle='--')\n",
    "plt.ylabel('Accuracy')\n",
    "plt.xlabel('Time Steps')\n",
    "plt.ylim((0,1.1))\n",
    "plt.legend( loc='upper right')\n",
    "plt.title('Task 1,2,3 Accuracy for D-JEPA(R2I)')\n",
    "plt.show()\n",
    "\n",
    "sns.set_theme()\n",
    "plt.figure(figsize=(10, 5))\n",
    "sns.lineplot(mses, label='D-JEPA MSE', color='royalblue', linestyle='-')\n",
    "\n",
    "plt.ylabel('MSE')\n",
    "plt.xlabel('Time Steps')\n",
    "plt.legend( loc='upper right')\n",
    "plt.title('MSE for D-JEPA Latent Prediction')\n",
    "plt.show()\n"
   ]
  },
  {
   "cell_type": "code",
   "execution_count": 63,
   "metadata": {},
   "outputs": [
    {
     "data": {
      "text/plain": [
       "'[[0.7578125, 0.6953125, 0.71875, 0.9453125, 0.7734375, 0.7265625, 0.7265625, 0.703125, 0.75, 0.703125, 0.765625, 0.75, 0.7734375, 0.71875, 0.75, 0.6953125, 0.7109375, 0.796875, 0.75, 0.71875, 0.7421875, 0.7265625, 0.7421875, 0.703125, 0.78125, 0.71875, 0.734375, 0.703125, 0.7421875, 0.7265625, 0.7109375, 0.8203125, 0.765625, 0.71875, 0.7265625, 0.7109375, 0.7421875, 0.6875, 0.7890625, 0.734375, 0.7578125, 0.7265625, 0.7421875, 0.6953125, 0.7265625, 0.78125, 0.7421875, 0.71875, 0.734375, 0.71875, 0.7578125, 0.6953125, 0.7734375, 0.734375, 0.734375, 0.6953125, 0.7578125, 0.71875, 0.703125, 0.84375, 0.7578125, 0.7109375, 0.7421875, 0.703125, 0.734375, 0.703125, 0.7734375, 0.7265625, 0.765625, 0.71875, 0.734375, 0.7109375, 0.71875, 0.7734375, 0.7578125, 0.71875, 0.7265625, 0.734375, 0.75, 0.6875, 0.796875, 0.7265625, 0.7265625, 0.7109375, 0.75, 0.7109375, 0.71875, 0.828125, 0.75, 0.71875, 0.734375, 0.6953125, 0.75, 0.6953125, 0.765625, 0.7421875, 0.765625, 0.7109375, 0.75, 0.703125, 0.7109375, 0.796875, 0.75, 0.7109375, 0.7421875, 0.7265625, 0.7421875, 0.703125, 0.78125, 0.71875, 0.734375, 0.703125, 0.7421875, 0.7265625, 0.7109375, 0.8203125, 0.765625, 0.71875, 0.7265625, 0.7109375, 0.7421875, 0.6875, 0.7890625, 0.734375, 0.7578125, 0.7265625, 0.7421875, 0.6953125, 0.7265625, 0.78125, 0.7421875, 0.71875, 0.734375, 0.71875, 0.7578125, 0.6953125, 0.7734375, 0.734375, 0.734375, 0.6953125, 0.7578125, 0.71875, 0.703125, 0.84375, 0.7578125, 0.7109375, 0.7421875, 0.703125, 0.734375, 0.703125, 0.7734375, 0.7265625, 0.765625, 0.71875, 0.734375, 0.7109375, 0.71875, 0.7734375, 0.7578125, 0.71875, 0.7265625, 0.734375, 0.75, 0.6875, 0.796875, 0.7265625, 0.7265625, 0.7109375, 0.75, 0.7109375, 0.71875, 0.828125, 0.75, 0.71875, 0.734375, 0.6953125, 0.75, 0.6953125, 0.765625, 0.7421875, 0.765625, 0.7109375, 0.75, 0.703125, 0.7109375, 0.796875, 0.75, 0.7109375, 0.7421875, 0.7265625, 0.7421875, 0.703125, 0.78125, 0.71875, 0.734375, 0.703125, 0.7421875, 0.7265625, 0.7109375, 0.8203125], [0.28125, 0.3125, 0.2890625, 0.3203125, 0.2890625, 0.3125, 0.2890625, 0.3046875, 0.28125, 0.3125, 0.28125, 0.3046875, 0.28125, 0.3046875, 0.28125, 0.3125, 0.2734375, 0.296875, 0.2734375, 0.3125, 0.2734375, 0.296875, 0.2734375, 0.3125, 0.2734375, 0.296875, 0.2734375, 0.3125, 0.2734375, 0.296875, 0.2734375, 0.3125, 0.2734375, 0.296875, 0.2734375, 0.3125, 0.2734375, 0.296875, 0.2734375, 0.3125, 0.2734375, 0.296875, 0.2734375, 0.3125, 0.2734375, 0.296875, 0.2734375, 0.3125, 0.2734375, 0.296875, 0.2734375, 0.3125, 0.2734375, 0.296875, 0.2734375, 0.3125, 0.2734375, 0.296875, 0.2734375, 0.3125, 0.2734375, 0.296875, 0.2734375, 0.3125, 0.2734375, 0.296875, 0.2734375, 0.3125, 0.2734375, 0.296875, 0.2734375, 0.3125, 0.2734375, 0.296875, 0.2734375, 0.3125, 0.2734375, 0.296875, 0.2734375, 0.3125, 0.2734375, 0.296875, 0.2734375, 0.3125, 0.2734375, 0.296875, 0.2734375, 0.3125, 0.2734375, 0.296875, 0.2734375, 0.3125, 0.2734375, 0.296875, 0.2734375, 0.3125, 0.2734375, 0.296875, 0.2734375, 0.3125, 0.2734375, 0.296875, 0.2734375, 0.3125, 0.2734375, 0.296875, 0.2734375, 0.3125, 0.2734375, 0.296875, 0.2734375, 0.3125, 0.2734375, 0.296875, 0.2734375, 0.3125, 0.2734375, 0.296875, 0.2734375, 0.3125, 0.2734375, 0.296875, 0.2734375, 0.3125, 0.2734375, 0.296875, 0.2734375, 0.3125, 0.2734375, 0.296875, 0.2734375, 0.3125, 0.2734375, 0.296875, 0.2734375, 0.3125, 0.2734375, 0.296875, 0.2734375, 0.3125, 0.2734375, 0.296875, 0.2734375, 0.3125, 0.2734375, 0.296875, 0.2734375, 0.3125, 0.2734375, 0.296875, 0.2734375, 0.3125, 0.2734375, 0.296875, 0.2734375, 0.3125, 0.2734375, 0.296875, 0.2734375, 0.3125, 0.2734375, 0.296875, 0.2734375, 0.3125, 0.2734375, 0.296875, 0.2734375, 0.3125, 0.2734375, 0.296875, 0.2734375, 0.3125, 0.2734375, 0.296875, 0.2734375, 0.3125, 0.2734375, 0.296875, 0.2734375, 0.3125, 0.2734375, 0.296875, 0.2734375, 0.3125, 0.2734375, 0.296875, 0.2734375, 0.3125, 0.2734375, 0.296875, 0.2734375, 0.3125, 0.2734375, 0.296875, 0.2734375, 0.3125, 0.2734375, 0.296875, 0.2734375, 0.3125], [0.9921875, 0.9765625, 0.984375, 0.9765625, 0.9921875, 0.9765625, 0.9921875, 0.984375, 0.984375, 0.9765625, 0.984375, 0.984375, 0.984375, 0.9765625, 0.984375, 0.984375, 0.984375, 0.9765625, 0.984375, 0.984375, 0.984375, 0.9765625, 0.984375, 0.984375, 0.984375, 0.9765625, 0.984375, 0.984375, 0.984375, 0.9765625, 0.984375, 0.984375, 0.984375, 0.9765625, 0.984375, 0.984375, 0.984375, 0.9765625, 0.984375, 0.984375, 0.984375, 0.9765625, 0.984375, 0.984375, 0.984375, 0.9765625, 0.984375, 0.984375, 0.984375, 0.9765625, 0.984375, 0.984375, 0.984375, 0.9765625, 0.984375, 0.984375, 0.984375, 0.9765625, 0.984375, 0.984375, 0.984375, 0.9765625, 0.984375, 0.984375, 0.984375, 0.9765625, 0.984375, 0.984375, 0.984375, 0.9765625, 0.984375, 0.984375, 0.984375, 0.9765625, 0.984375, 0.984375, 0.984375, 0.9765625, 0.984375, 0.984375, 0.984375, 0.9765625, 0.984375, 0.984375, 0.984375, 0.9765625, 0.984375, 0.984375, 0.984375, 0.9765625, 0.984375, 0.984375, 0.984375, 0.9765625, 0.984375, 0.984375, 0.984375, 0.9765625, 0.984375, 0.984375, 0.984375, 0.9765625, 0.984375, 0.984375, 0.984375, 0.9765625, 0.984375, 0.984375, 0.984375, 0.9765625, 0.984375, 0.984375, 0.984375, 0.9765625, 0.984375, 0.984375, 0.984375, 0.9765625, 0.984375, 0.984375, 0.984375, 0.9765625, 0.984375, 0.984375, 0.984375, 0.9765625, 0.984375, 0.984375, 0.984375, 0.9765625, 0.984375, 0.984375, 0.984375, 0.9765625, 0.984375, 0.984375, 0.984375, 0.9765625, 0.984375, 0.984375, 0.984375, 0.9765625, 0.984375, 0.984375, 0.984375, 0.9765625, 0.984375, 0.984375, 0.984375, 0.9765625, 0.984375, 0.984375, 0.984375, 0.9765625, 0.984375, 0.984375, 0.984375, 0.9765625, 0.984375, 0.984375, 0.984375, 0.9765625, 0.984375, 0.984375, 0.984375, 0.9765625, 0.984375, 0.984375, 0.984375, 0.9765625, 0.984375, 0.984375, 0.984375, 0.9765625, 0.984375, 0.984375, 0.984375, 0.9765625, 0.984375, 0.984375, 0.984375, 0.9765625, 0.984375, 0.984375, 0.984375, 0.9765625, 0.984375, 0.984375, 0.984375, 0.9765625, 0.984375, 0.984375, 0.984375, 0.9765625, 0.984375, 0.984375, 0.984375, 0.9765625, 0.984375, 0.984375]]'"
      ]
     },
     "execution_count": 63,
     "metadata": {},
     "output_type": "execute_result"
    }
   ],
   "source": [
    "str(task)"
   ]
  },
  {
   "cell_type": "code",
   "execution_count": null,
   "metadata": {},
   "outputs": [],
   "source": [
    "mses.tolist()"
   ]
  },
  {
   "cell_type": "code",
   "execution_count": null,
   "metadata": {},
   "outputs": [],
   "source": [
    "ijepa_task = np.array([[1.0, 0.9921875, 0.9921875, 0.9921875, 0.9921875, 0.984375, 1.0, 0.9765625, 0.9765625, 0.9765625, 0.9765625, 0.953125, 0.984375, 0.9453125, 0.96875, 0.9296875, 0.9296875, 0.9375, 0.9296875, 0.890625, 0.8984375, 0.8828125, 0.8984375, 0.875, 0.875, 0.8984375, 0.8671875, 0.796875, 0.8984375, 0.8515625, 0.8046875, 0.828125, 0.828125, 0.7890625, 0.8046875, 0.8203125, 0.78125, 0.796875, 0.78125, 0.7421875, 0.796875, 0.765625, 0.734375, 0.7578125, 0.765625, 0.703125, 0.7578125, 0.7578125, 0.71875, 0.7890625, 0.7578125, 0.734375, 0.78125, 0.7578125, 0.71875, 0.765625, 0.78125, 0.71875, 0.734375, 0.734375, 0.71875, 0.765625, 0.7265625, 0.6796875, 0.7578125, 0.75, 0.6796875, 0.71875, 0.7890625, 0.6875, 0.7421875, 0.734375, 0.7421875, 0.7734375, 0.71875, 0.6796875, 0.796875, 0.765625, 0.6796875, 0.734375, 0.78125, 0.703125, 0.703125, 0.71875, 0.7109375, 0.7734375, 0.6953125, 0.671875, 0.7578125, 0.7734375, 0.6484375, 0.7578125, 0.765625, 0.734375, 0.71875, 0.7265625, 0.7265625, 0.8046875, 0.734375, 0.6953125, 0.765625, 0.78125, 0.6640625, 0.71875, 0.75, 0.703125, 0.71875, 0.71875, 0.6953125, 0.75, 0.7109375, 0.65625, 0.7890625, 0.7734375, 0.6875, 0.71875, 0.75, 0.703125, 0.7421875, 0.7421875, 0.703125, 0.7578125, 0.71875, 0.671875, 0.75, 0.75, 0.640625, 0.71875, 0.734375, 0.6875, 0.6875, 0.734375, 0.671875, 0.78125, 0.703125, 0.703125, 0.7578125, 0.7578125, 0.65625, 0.75, 0.7734375, 0.7109375, 0.703125, 0.7421875, 0.6953125, 0.75, 0.6875, 0.671875, 0.75, 0.7421875, 0.640625, 0.703125, 0.765625, 0.6796875, 0.71875, 0.734375, 0.7265625, 0.7578125, 0.6953125, 0.671875, 0.78125, 0.7734375, 0.6640625, 0.71875, 0.765625, 0.6953125, 0.6953125, 0.71875, 0.6953125, 0.7578125, 0.6796875, 0.6640625, 0.7421875, 0.765625, 0.6328125, 0.734375, 0.75, 0.7265625, 0.703125, 0.7265625, 0.7109375, 0.78125, 0.7109375, 0.6875, 0.75, 0.7734375, 0.6484375, 0.703125, 0.734375, 0.6953125, 0.6953125, 0.7109375, 0.6875, 0.734375, 0.703125, 0.65625, 0.7734375, 0.765625, 0.6796875, 0.7109375], [0.1875, 0.1640625, 0.2421875, 0.1953125, 0.1640625, 0.140625, 0.2109375, 0.140625, 0.1015625, 0.21875, 0.15625, 0.1328125, 0.1328125, 0.1796875, 0.1796875, 0.1484375, 0.1640625, 0.15625, 0.1484375, 0.1171875, 0.125, 0.1953125, 0.1796875, 0.125, 0.1171875, 0.15625, 0.1796875, 0.140625, 0.125, 0.1640625, 0.1953125, 0.1015625, 0.109375, 0.1640625, 0.1875, 0.1171875, 0.1328125, 0.1875, 0.1796875, 0.140625, 0.15625, 0.171875, 0.1875, 0.109375, 0.1796875, 0.171875, 0.1640625, 0.125, 0.15625, 0.1875, 0.1796875, 0.1484375, 0.1484375, 0.15625, 0.140625, 0.1171875, 0.140625, 0.1640625, 0.1640625, 0.140625, 0.140625, 0.1640625, 0.171875, 0.15625, 0.15625, 0.1875, 0.15625, 0.1171875, 0.1484375, 0.1640625, 0.15625, 0.1328125, 0.1796875, 0.1875, 0.1640625, 0.1328125, 0.171875, 0.1796875, 0.171875, 0.109375, 0.140625, 0.140625, 0.1328125, 0.140625, 0.1484375, 0.1796875, 0.1875, 0.1484375, 0.171875, 0.140625, 0.171875, 0.109375, 0.1484375, 0.171875, 0.1328125, 0.140625, 0.15625, 0.1953125, 0.1640625, 0.140625, 0.21875, 0.1640625, 0.15625, 0.09375, 0.15625, 0.15625, 0.1484375, 0.1328125, 0.140625, 0.171875, 0.140625, 0.15625, 0.171875, 0.15625, 0.1796875, 0.109375, 0.1484375, 0.125, 0.15625, 0.1328125, 0.1484375, 0.203125, 0.1484375, 0.15625, 0.1796875, 0.171875, 0.1640625, 0.09375, 0.1875, 0.1484375, 0.140625, 0.109375, 0.1484375, 0.1875, 0.1640625, 0.1484375, 0.1640625, 0.15625, 0.140625, 0.1171875, 0.1484375, 0.140625, 0.1640625, 0.1328125, 0.140625, 0.15625, 0.171875, 0.1484375, 0.171875, 0.1875, 0.1484375, 0.1171875, 0.15625, 0.15625, 0.15625, 0.125, 0.1875, 0.1796875, 0.1640625, 0.1328125, 0.171875, 0.171875, 0.171875, 0.109375, 0.140625, 0.140625, 0.1328125, 0.140625, 0.1484375, 0.171875, 0.1875, 0.1484375, 0.1640625, 0.140625, 0.1796875, 0.109375, 0.1484375, 0.171875, 0.140625, 0.140625, 0.15625, 0.1875, 0.171875, 0.140625, 0.2109375, 0.1640625, 0.171875, 0.09375, 0.1484375, 0.15625, 0.15625, 0.1328125, 0.140625, 0.171875, 0.1484375, 0.15625, 0.171875, 0.15625, 0.1953125, 0.109375], [0.7109375, 0.7421875, 0.7890625, 0.765625, 0.5390625, 0.6171875, 0.546875, 0.6015625, 0.3515625, 0.3671875, 0.3515625, 0.3984375, 0.28125, 0.28125, 0.3359375, 0.265625, 0.2578125, 0.2734375, 0.2421875, 0.2734375, 0.2734375, 0.28125, 0.2578125, 0.296875, 0.234375, 0.21875, 0.2890625, 0.2265625, 0.2734375, 0.2265625, 0.296875, 0.2421875, 0.234375, 0.2421875, 0.2734375, 0.3125, 0.2734375, 0.2421875, 0.296875, 0.2421875, 0.265625, 0.2421875, 0.2890625, 0.2265625, 0.25, 0.2265625, 0.25, 0.2578125, 0.28125, 0.2578125, 0.265625, 0.2578125, 0.2578125, 0.21875, 0.28125, 0.21875, 0.2734375, 0.21875, 0.265625, 0.234375, 0.25, 0.2421875, 0.28125, 0.2734375, 0.28125, 0.2734375, 0.28125, 0.2109375, 0.25, 0.2265625, 0.2890625, 0.2421875, 0.265625, 0.2265625, 0.265625, 0.2265625, 0.28125, 0.265625, 0.265625, 0.2265625, 0.2421875, 0.203125, 0.296875, 0.21875, 0.2734375, 0.21875, 0.2890625, 0.2109375, 0.25, 0.25, 0.28125, 0.2421875, 0.265625, 0.2734375, 0.296875, 0.2265625, 0.25, 0.2265625, 0.3046875, 0.21875, 0.2734375, 0.234375, 0.2578125, 0.203125, 0.28125, 0.265625, 0.2734375, 0.25, 0.25, 0.203125, 0.3046875, 0.2109375, 0.28125, 0.2265625, 0.28125, 0.1953125, 0.25, 0.25, 0.28125, 0.2734375, 0.265625, 0.265625, 0.3046875, 0.21875, 0.25, 0.2421875, 0.296875, 0.203125, 0.2578125, 0.234375, 0.2578125, 0.2265625, 0.2734375, 0.2578125, 0.28125, 0.25, 0.25, 0.21875, 0.296875, 0.1953125, 0.265625, 0.2265625, 0.28125, 0.21875, 0.2421875, 0.2421875, 0.28125, 0.2734375, 0.2734375, 0.28125, 0.296875, 0.203125, 0.234375, 0.234375, 0.296875, 0.2265625, 0.2578125, 0.2265625, 0.2578125, 0.2265625, 0.28125, 0.2734375, 0.2734375, 0.2265625, 0.234375, 0.2109375, 0.296875, 0.21875, 0.265625, 0.21875, 0.28125, 0.21875, 0.2578125, 0.2578125, 0.28125, 0.25, 0.2578125, 0.2734375, 0.296875, 0.2265625, 0.2421875, 0.2265625, 0.296875, 0.2265625, 0.2734375, 0.2421875, 0.2578125, 0.203125, 0.265625, 0.265625, 0.2734375, 0.25, 0.25, 0.203125, 0.296875, 0.21875, 0.28125, 0.234375, 0.28125, 0.1953125]]\n",
    "\n",
    "\n",
    ")\n",
    "\n",
    "ijepa_mses = np.array([1.5378525257110596, 1.5327904224395752, 1.4734877347946167, 1.470564842224121, 1.9125475883483887, 1.9955662488937378, 1.828863263130188, 2.312412977218628, 2.4494123458862305, 2.71018123626709, 2.30121111869812, 3.107456922531128, 3.9727816581726074, 6.393260955810547, 5.06236457824707, 4.364295482635498, 5.906982421875, 9.280186653137207, 7.7457966804504395, 8.091802597045898, 10.830070495605469, 13.698746681213379, 10.977436065673828, 13.662161827087402, 16.457996368408203, 16.441932678222656, 14.162452697753906, 16.86781120300293, 18.2962646484375, 21.008737564086914, 17.119213104248047, 18.674110412597656, 21.87918472290039, 24.112272262573242, 21.644084930419922, 18.763713836669922, 22.271196365356445, 24.1992130279541, 21.894210815429688, 20.914806365966797, 23.958696365356445, 28.09473419189453, 25.718812942504883, 22.811124801635742, 28.08948516845703, 30.483346939086914, 25.905752182006836, 20.8287410736084, 24.982006072998047, 27.847461700439453, 27.385526657104492, 21.878215789794922, 23.181062698364258, 30.600427627563477, 27.398143768310547, 25.620094299316406, 22.604394912719727, 28.578805923461914, 26.537866592407227, 25.951065063476562, 22.416833877563477, 30.272197723388672, 29.02776527404785, 30.534194946289062, 23.250574111938477, 33.877708435058594, 31.344715118408203, 30.0740966796875, 20.347078323364258, 29.19237518310547, 28.084501266479492, 30.726083755493164, 19.612581253051758, 26.52883529663086, 30.109655380249023, 30.769542694091797, 23.12010955810547, 26.41463851928711, 28.281564712524414, 29.8649959564209, 23.45235824584961, 26.234586715698242, 29.989660263061523, 31.872617721557617, 27.007387161254883, 26.43478012084961, 32.968055725097656, 34.75608825683594, 26.4722843170166, 24.441808700561523, 28.55132484436035, 31.781606674194336, 27.59777069091797, 23.813549041748047, 26.097827911376953, 33.33858871459961, 26.898752212524414, 26.9725399017334, 25.18633270263672, 31.93890953063965, 26.374502182006836, 27.914548873901367, 25.54694366455078, 34.05451202392578, 28.44710922241211, 30.852567672729492, 26.2567138671875, 36.21533203125, 30.614307403564453, 30.341352462768555, 22.88324546813965, 31.939058303833008, 27.88701820373535, 32.12961196899414, 22.55593490600586, 29.985984802246094, 29.366344451904297, 30.493547439575195, 26.304216384887695, 28.467761993408203, 27.23229217529297, 29.694272994995117, 26.182811737060547, 28.55011558532715, 29.457490921020508, 32.64387130737305, 29.849584579467773, 29.459348678588867, 31.859025955200195, 34.26258850097656, 29.574174880981445, 26.029367446899414, 27.123884201049805, 31.031904220581055, 30.484821319580078, 25.530248641967773, 25.086572647094727, 33.601417541503906, 29.715227127075195, 29.341476440429688, 23.796518325805664, 31.459762573242188, 29.01556968688965, 29.104875564575195, 23.668188095092773, 32.77059555053711, 30.343128204345703, 32.247310638427734, 24.49740982055664, 36.19145965576172, 33.50266647338867, 32.9446907043457, 21.443540573120117, 31.56000518798828, 30.809072494506836, 33.08790588378906, 20.739660263061523, 28.148597717285156, 31.475543975830078, 32.18972396850586, 24.57259750366211, 28.25847625732422, 30.585107803344727, 32.146202087402344, 23.8460750579834, 27.58098793029785, 32.095829010009766, 33.07045364379883, 27.33197593688965, 27.747291564941406, 33.94363021850586, 36.74809265136719, 27.822216033935547, 26.006092071533203, 30.413808822631836, 33.46558380126953, 28.06270980834961, 24.696542739868164, 27.5826358795166, 34.34244155883789, 27.134056091308594, 27.826143264770508, 26.146337509155273, 32.96905517578125, 27.094314575195312, 28.154356002807617, 26.201709747314453, 34.96571350097656, 28.34038734436035, 30.945079803466797, 27.13006019592285, 36.73155212402344, 31.6406192779541, 30.870058059692383, 23.776639938354492, 32.96870422363281, 28.238725662231445, 32.222129821777344, 23.18146514892578, 30.356454849243164]\n",
    ")\n",
    "\n",
    "ijred_task = np.array([[0.984375, 1.0, 1.0, 1.0, 0.96875, 0.984375, 1.0, 0.9609375, 0.9609375, 0.9609375, 0.9765625, 0.953125, 0.9296875, 0.8984375, 0.953125, 0.9453125, 0.875, 0.84375, 0.9140625, 0.8828125, 0.828125, 0.828125, 0.8359375, 0.8515625, 0.8515625, 0.8125, 0.8359375, 0.8125, 0.859375, 0.796875, 0.796875, 0.8359375, 0.8359375, 0.71875, 0.8125, 0.78125, 0.78125, 0.765625, 0.796875, 0.71875, 0.796875, 0.6953125, 0.7890625, 0.7265625, 0.734375, 0.6796875, 0.7890625, 0.6875, 0.734375, 0.7265625, 0.75, 0.6328125, 0.7578125, 0.6328125, 0.71875, 0.640625, 0.75, 0.609375, 0.6953125, 0.6171875, 0.671875, 0.6171875, 0.6796875, 0.59375, 0.6953125, 0.59375, 0.640625, 0.5859375, 0.609375, 0.5390625, 0.6953125, 0.59375, 0.5859375, 0.5625, 0.6328125, 0.5, 0.6171875, 0.5703125, 0.578125, 0.515625, 0.6015625, 0.46875, 0.59375, 0.53125, 0.578125, 0.5078125, 0.5859375, 0.484375, 0.5625, 0.5078125, 0.5546875, 0.53125, 0.53125, 0.4375, 0.5859375, 0.4921875, 0.484375, 0.4765625, 0.546875, 0.421875, 0.5078125, 0.4765625, 0.453125, 0.4765625, 0.515625, 0.421875, 0.5078125, 0.453125, 0.484375, 0.4375, 0.5078125, 0.40625, 0.515625, 0.4453125, 0.453125, 0.4609375, 0.4765625, 0.390625, 0.5, 0.4296875, 0.4296875, 0.4140625, 0.5078125, 0.359375, 0.484375, 0.4296875, 0.421875, 0.40625, 0.4609375, 0.3828125, 0.46875, 0.390625, 0.453125, 0.421875, 0.453125, 0.34375, 0.4921875, 0.3984375, 0.453125, 0.40625, 0.4453125, 0.359375, 0.4609375, 0.390625, 0.390625, 0.4140625, 0.46875, 0.34375, 0.4296875, 0.3515625, 0.4609375, 0.3671875, 0.4296875, 0.3671875, 0.4609375, 0.34375, 0.375, 0.3828125, 0.4296875, 0.3359375, 0.421875, 0.3203125, 0.40625, 0.3125, 0.40625, 0.2890625, 0.4296875, 0.34375, 0.3671875, 0.28125, 0.40625, 0.3046875, 0.375, 0.296875, 0.4140625, 0.3046875, 0.359375, 0.25, 0.40625, 0.296875, 0.3359375, 0.328125, 0.375, 0.265625, 0.3125, 0.3046875, 0.3203125, 0.3046875, 0.3671875, 0.25, 0.34375, 0.28125, 0.3203125, 0.2734375, 0.359375, 0.296875, 0.3125, 0.28125, 0.296875, 0.328125], [0.3359375, 0.390625, 0.3515625, 0.3125, 0.2265625, 0.2109375, 0.1953125, 0.21875, 0.171875, 0.1796875, 0.1796875, 0.15625, 0.125, 0.171875, 0.171875, 0.1640625, 0.15625, 0.1328125, 0.1328125, 0.1171875, 0.15625, 0.109375, 0.1328125, 0.1171875, 0.15625, 0.140625, 0.140625, 0.125, 0.1640625, 0.140625, 0.1484375, 0.125, 0.15625, 0.125, 0.1796875, 0.140625, 0.1484375, 0.1328125, 0.1796875, 0.125, 0.1328125, 0.1484375, 0.171875, 0.1171875, 0.140625, 0.1484375, 0.1796875, 0.1171875, 0.140625, 0.140625, 0.1953125, 0.1171875, 0.125, 0.140625, 0.1875, 0.1171875, 0.140625, 0.140625, 0.171875, 0.125, 0.140625, 0.1328125, 0.1796875, 0.1328125, 0.140625, 0.1328125, 0.1796875, 0.125, 0.1484375, 0.140625, 0.15625, 0.109375, 0.1484375, 0.1328125, 0.140625, 0.1171875, 0.15625, 0.1171875, 0.140625, 0.125, 0.1484375, 0.125, 0.140625, 0.1171875, 0.1484375, 0.109375, 0.140625, 0.1171875, 0.1484375, 0.125, 0.15625, 0.125, 0.1484375, 0.125, 0.1484375, 0.140625, 0.1484375, 0.1328125, 0.1484375, 0.140625, 0.15625, 0.140625, 0.15625, 0.1328125, 0.15625, 0.140625, 0.1640625, 0.15625, 0.1640625, 0.1484375, 0.171875, 0.1640625, 0.1640625, 0.1484375, 0.15625, 0.1875, 0.1640625, 0.1484375, 0.1640625, 0.1953125, 0.15625, 0.15625, 0.1640625, 0.1875, 0.1640625, 0.140625, 0.171875, 0.1796875, 0.15625, 0.1328125, 0.171875, 0.1640625, 0.1640625, 0.140625, 0.15625, 0.1640625, 0.15625, 0.1484375, 0.15625, 0.15625, 0.15625, 0.1484375, 0.15625, 0.1484375, 0.15625, 0.1484375, 0.1796875, 0.15625, 0.15625, 0.1484375, 0.1796875, 0.1796875, 0.15625, 0.1484375, 0.1796875, 0.1796875, 0.15625, 0.15625, 0.1796875, 0.171875, 0.1484375, 0.1640625, 0.1875, 0.171875, 0.1484375, 0.171875, 0.1796875, 0.1640625, 0.1484375, 0.1640625, 0.1640625, 0.171875, 0.140625, 0.1484375, 0.15625, 0.171875, 0.1484375, 0.1484375, 0.1484375, 0.171875, 0.140625, 0.1484375, 0.15625, 0.1640625, 0.140625, 0.1484375, 0.15625, 0.171875, 0.140625, 0.1484375, 0.140625, 0.1640625, 0.140625, 0.1484375, 0.140625, 0.1640625, 0.140625, 0.1484375, 0.140625, 0.1640625], [0.953125, 0.921875, 0.953125, 0.9453125, 0.9296875, 0.9140625, 0.9296875, 0.921875, 0.9296875, 0.875, 0.8828125, 0.875, 0.890625, 0.8515625, 0.890625, 0.8359375, 0.828125, 0.8515625, 0.8828125, 0.8046875, 0.84375, 0.8359375, 0.828125, 0.8125, 0.8125, 0.7734375, 0.8359375, 0.8125, 0.8046875, 0.7890625, 0.8125, 0.796875, 0.8046875, 0.7734375, 0.78125, 0.7890625, 0.7734375, 0.71875, 0.8046875, 0.765625, 0.7734375, 0.765625, 0.7890625, 0.734375, 0.765625, 0.7734375, 0.7734375, 0.765625, 0.7890625, 0.7421875, 0.78125, 0.7578125, 0.7734375, 0.796875, 0.78125, 0.734375, 0.7578125, 0.7578125, 0.765625, 0.75, 0.7578125, 0.71875, 0.75, 0.71875, 0.71875, 0.7421875, 0.7890625, 0.6953125, 0.7109375, 0.6953125, 0.7421875, 0.6875, 0.6953125, 0.65625, 0.7265625, 0.6640625, 0.671875, 0.6953125, 0.734375, 0.6953125, 0.671875, 0.6953125, 0.7421875, 0.6953125, 0.65625, 0.6796875, 0.703125, 0.65625, 0.6640625, 0.6953125, 0.703125, 0.671875, 0.640625, 0.6796875, 0.7421875, 0.6484375, 0.640625, 0.6953125, 0.6953125, 0.609375, 0.640625, 0.6484375, 0.6484375, 0.6171875, 0.625, 0.6171875, 0.6875, 0.6015625, 0.625, 0.6328125, 0.6484375, 0.59375, 0.640625, 0.59375, 0.609375, 0.6015625, 0.578125, 0.5703125, 0.640625, 0.59375, 0.5703125, 0.578125, 0.5859375, 0.59375, 0.5625, 0.546875, 0.546875, 0.59375, 0.5390625, 0.53125, 0.5703125, 0.578125, 0.5234375, 0.5546875, 0.5078125, 0.546875, 0.5390625, 0.53125, 0.515625, 0.5625, 0.515625, 0.5390625, 0.53125, 0.5546875, 0.5078125, 0.5546875, 0.4921875, 0.546875, 0.546875, 0.515625, 0.515625, 0.5625, 0.5078125, 0.53125, 0.5, 0.5234375, 0.4921875, 0.5234375, 0.4765625, 0.515625, 0.484375, 0.4765625, 0.4765625, 0.5078125, 0.46875, 0.5078125, 0.4921875, 0.4921875, 0.484375, 0.5078125, 0.4609375, 0.5, 0.4921875, 0.4765625, 0.484375, 0.4921875, 0.4609375, 0.484375, 0.5, 0.4765625, 0.4921875, 0.4765625, 0.4765625, 0.4921875, 0.5, 0.484375, 0.5, 0.4765625, 0.484375, 0.5, 0.5078125, 0.4765625, 0.5078125, 0.4921875, 0.484375, 0.484375, 0.5234375, 0.4765625, 0.46875, 0.484375]]\n",
    ")\n",
    "ijred_mses = np.array([387.258056640625, 405.7772521972656, 386.88409423828125, 401.8890686035156, 576.9149780273438, 607.6268920898438, 570.4625854492188, 573.2476196289062, 816.619873046875, 835.34326171875, 794.5733642578125, 788.1116943359375, 1116.8536376953125, 1205.3817138671875, 1236.008544921875, 1104.25634765625, 1488.4290771484375, 1743.7093505859375, 1479.647705078125, 1491.38427734375, 1973.9964599609375, 2257.797119140625, 1928.56005859375, 1956.54150390625, 2375.998291015625, 2610.2021484375, 2411.150390625, 2377.1904296875, 2918.844482421875, 3093.636962890625, 2769.208740234375, 2857.8349609375, 3233.8955078125, 3531.36474609375, 3184.576171875, 3289.46630859375, 3600.3857421875, 3956.43505859375, 3631.201171875, 3667.041015625, 4049.900390625, 4251.89892578125, 3968.331298828125, 4075.909423828125, 4440.04736328125, 4630.62939453125, 4288.3544921875, 4427.33642578125, 4697.90478515625, 4911.92041015625, 4651.74755859375, 4705.6796875, 5068.23193359375, 5231.90576171875, 4966.7373046875, 4992.248046875, 5353.81884765625, 5585.03955078125, 5317.3388671875, 5392.18359375, 5691.63623046875, 5880.38427734375, 5613.50927734375, 5624.31640625, 5927.6376953125, 6277.0107421875, 6010.2724609375, 5903.2763671875, 6340.10302734375, 6624.5107421875, 6279.52001953125, 6286.66748046875, 6684.50390625, 6951.8564453125, 6664.8251953125, 6527.0810546875, 6939.453125, 7296.06298828125, 6908.32568359375, 6771.326171875, 7367.17919921875, 7553.017578125, 7196.27880859375, 7036.64990234375, 7610.79736328125, 7866.248046875, 7574.5625, 7330.138671875, 7863.7529296875, 8238.1796875, 7820.60205078125, 7603.017578125, 8213.7197265625, 8494.41015625, 8169.49609375, 7891.61572265625, 8461.240234375, 8751.27734375, 8503.2529296875, 8181.13818359375, 8798.650390625, 9120.2763671875, 8703.1337890625, 8395.716796875, 9063.462890625, 9329.6064453125, 8943.9072265625, 8629.4814453125, 9348.78125, 9564.5654296875, 9271.083984375, 8887.5576171875, 9522.466796875, 9878.6396484375, 9507.6162109375, 9129.6279296875, 9860.056640625, 10166.1484375, 9686.759765625, 9369.6884765625, 10090.8203125, 10356.87109375, 10030.6328125, 9645.3984375, 10274.2109375, 10659.00390625, 10284.525390625, 9782.15234375, 10553.009765625, 11009.1962890625, 10538.3515625, 10057.318359375, 10879.1416015625, 11138.025390625, 10795.3037109375, 10297.4150390625, 11101.6953125, 11495.4912109375, 11157.537109375, 10530.67578125, 11432.423828125, 11835.90625, 11402.26171875, 10845.298828125, 11818.6123046875, 12029.3671875, 11692.818359375, 11141.287109375, 11999.76953125, 12307.4970703125, 12046.3671875, 11418.3212890625, 12318.27734375, 12608.4384765625, 12239.7099609375, 11689.33203125, 12606.0322265625, 12868.2353515625, 12640.830078125, 11973.865234375, 12767.365234375, 13135.4677734375, 12912.5390625, 12125.599609375, 13125.1162109375, 13545.896484375, 13084.712890625, 12430.9560546875, 13429.5322265625, 13634.5078125, 13376.1337890625, 12757.892578125, 13705.212890625, 13970.240234375, 13681.22265625, 12915.03125, 13933.1171875, 14184.00390625, 13919.7001953125, 13321.2802734375, 14286.7802734375, 14342.81640625, 14232.244140625, 13532.826171875, 14462.9326171875, 14695.12109375, 14663.943359375, 13726.6650390625, 14759.416015625, 15002.6572265625, 14779.833984375, 13940.09765625, 15089.861328125, 15292.056640625, 15132.7109375, 14292.1748046875, 15308.4033203125, 15510.6171875, 15389.09375, 14546.771484375]\n",
    ") / 64\n",
    "\n",
    "djepa_g2p_task = np.array([[1.0, 0.9921875, 1.0, 0.9921875, 1.0, 0.9921875, 1.0, 0.9921875, 1.0, 0.9921875, 1.0, 0.9921875, 1.0, 0.9921875, 1.0, 0.9921875, 1.0, 0.9921875, 1.0, 0.9921875, 1.0, 0.9921875, 1.0, 0.9921875, 1.0, 0.9921875, 1.0, 0.9921875, 1.0, 0.9921875, 1.0, 0.9921875, 1.0, 0.9921875, 1.0, 0.9921875, 1.0, 0.9921875, 1.0, 0.9921875, 1.0, 0.9921875, 1.0, 0.9921875, 1.0, 0.9921875, 1.0, 0.9921875, 1.0, 0.9921875, 1.0, 0.9921875, 1.0, 0.9921875, 1.0, 0.9921875, 1.0, 0.9921875, 1.0, 0.9921875, 1.0, 0.9921875, 1.0, 0.9921875, 1.0, 0.9921875, 1.0, 0.9921875, 1.0, 0.9921875, 1.0, 0.9921875, 1.0, 0.9921875, 1.0, 0.9921875, 1.0, 0.9921875, 1.0, 0.9921875, 1.0, 0.9921875, 1.0, 0.9921875, 1.0, 0.9921875, 1.0, 0.9921875, 1.0, 0.9921875, 1.0, 0.9921875, 1.0, 0.9921875, 1.0, 0.9921875, 1.0, 0.9921875, 1.0, 0.9921875, 1.0, 0.9921875, 1.0, 0.9921875, 1.0, 0.9921875, 1.0, 0.9921875, 1.0, 0.9921875, 1.0, 0.9921875, 1.0, 0.9921875, 1.0, 0.9921875, 1.0, 0.9921875, 1.0, 0.9921875, 1.0, 0.9921875, 1.0, 0.9921875, 1.0, 0.9921875, 1.0, 0.9921875, 1.0, 0.9921875, 1.0, 0.9921875, 1.0, 0.9921875, 1.0, 0.9921875, 1.0, 0.9921875, 1.0, 0.9921875, 1.0, 0.9921875, 1.0, 0.9921875, 1.0, 0.9921875, 1.0, 0.9921875, 1.0, 0.9921875, 1.0, 0.9921875, 1.0, 0.9921875, 1.0, 0.9921875, 1.0, 0.9921875, 1.0, 0.9921875, 1.0, 0.9921875, 1.0, 0.9921875, 1.0, 0.9921875, 1.0, 0.9921875, 1.0, 0.9921875, 1.0, 0.9921875, 1.0, 0.9921875, 1.0, 0.9921875, 1.0, 0.9921875, 1.0, 0.9921875, 1.0, 0.9921875, 1.0, 0.9921875, 1.0, 0.9921875, 1.0, 0.9921875, 1.0, 0.9921875, 1.0, 0.9921875, 1.0, 0.9921875, 1.0, 0.9921875, 1.0, 0.9921875, 1.0, 0.9921875], [0.6015625, 0.546875, 0.5625, 0.5546875, 0.5625, 0.578125, 0.578125, 0.578125, 0.6171875, 0.546875, 0.546875, 0.5546875, 0.609375, 0.5703125, 0.6015625, 0.578125, 0.5859375, 0.546875, 0.5546875, 0.578125, 0.609375, 0.5859375, 0.578125, 0.5703125, 0.5703125, 0.5390625, 0.6015625, 0.5703125, 0.609375, 0.59375, 0.5625, 0.5234375, 0.5859375, 0.578125, 0.578125, 0.59375, 0.6171875, 0.5390625, 0.546875, 0.546875, 0.609375, 0.5703125, 0.5859375, 0.5859375, 0.6015625, 0.5234375, 0.5546875, 0.5859375, 0.59375, 0.5703125, 0.6015625, 0.5625, 0.5546875, 0.546875, 0.59375, 0.5703125, 0.6171875, 0.5859375, 0.5546875, 0.53125, 0.578125, 0.578125, 0.5859375, 0.578125, 0.609375, 0.5546875, 0.5390625, 0.546875, 0.625, 0.5625, 0.578125, 0.59375, 0.59375, 0.515625, 0.5703125, 0.578125, 0.5859375, 0.5859375, 0.59375, 0.5625, 0.5703125, 0.5390625, 0.5859375, 0.578125, 0.609375, 0.578125, 0.5703125, 0.5234375, 0.5703125, 0.59375, 0.578125, 0.578125, 0.625, 0.546875, 0.53125, 0.5546875, 0.6171875, 0.5546875, 0.59375, 0.5859375, 0.5859375, 0.53125, 0.5625, 0.578125, 0.6015625, 0.578125, 0.5859375, 0.5703125, 0.5625, 0.53125, 0.6015625, 0.5703125, 0.6015625, 0.59375, 0.5625, 0.5234375, 0.5859375, 0.5859375, 0.5703125, 0.5859375, 0.6171875, 0.5390625, 0.546875, 0.546875, 0.609375, 0.5703125, 0.5859375, 0.5859375, 0.6015625, 0.5234375, 0.5546875, 0.5859375, 0.59375, 0.5703125, 0.6015625, 0.5625, 0.5546875, 0.546875, 0.59375, 0.5703125, 0.6171875, 0.5859375, 0.5546875, 0.53125, 0.578125, 0.578125, 0.5859375, 0.578125, 0.609375, 0.5546875, 0.5390625, 0.546875, 0.625, 0.5625, 0.578125, 0.59375, 0.59375, 0.515625, 0.5703125, 0.578125, 0.5859375, 0.5859375, 0.59375, 0.5625, 0.5703125, 0.5390625, 0.5859375, 0.578125, 0.609375, 0.578125, 0.5703125, 0.5234375, 0.5703125, 0.59375, 0.578125, 0.578125, 0.625, 0.546875, 0.53125, 0.5546875, 0.6171875, 0.5546875, 0.59375, 0.5859375, 0.5859375, 0.53125, 0.5625, 0.578125, 0.6015625, 0.578125, 0.5859375, 0.5703125, 0.5625, 0.53125, 0.6015625, 0.5703125, 0.6015625, 0.59375, 0.5625, 0.5234375], [0.9140625, 0.8828125, 0.921875, 0.890625, 0.9140625, 0.890625, 0.921875, 0.90625, 0.9140625, 0.890625, 0.8984375, 0.90625, 0.9140625, 0.890625, 0.9140625, 0.90625, 0.9140625, 0.8828125, 0.90625, 0.90625, 0.921875, 0.890625, 0.9140625, 0.90625, 0.90625, 0.8828125, 0.921875, 0.9140625, 0.921875, 0.890625, 0.9140625, 0.90625, 0.9140625, 0.8984375, 0.9296875, 0.9140625, 0.9140625, 0.8984375, 0.8984375, 0.90625, 0.9296875, 0.8984375, 0.921875, 0.9140625, 0.9140625, 0.8828125, 0.9140625, 0.9140625, 0.921875, 0.90625, 0.9140625, 0.90625, 0.9140625, 0.8828125, 0.921875, 0.921875, 0.921875, 0.890625, 0.921875, 0.8984375, 0.9140625, 0.90625, 0.921875, 0.9140625, 0.921875, 0.890625, 0.8984375, 0.9140625, 0.921875, 0.8984375, 0.9296875, 0.90625, 0.9140625, 0.890625, 0.90625, 0.9140625, 0.9296875, 0.8984375, 0.9140625, 0.9140625, 0.90625, 0.8828125, 0.9296875, 0.9140625, 0.921875, 0.8984375, 0.9140625, 0.8984375, 0.921875, 0.8984375, 0.921875, 0.921875, 0.9140625, 0.890625, 0.90625, 0.90625, 0.921875, 0.90625, 0.921875, 0.90625, 0.921875, 0.8828125, 0.90625, 0.921875, 0.921875, 0.8984375, 0.921875, 0.90625, 0.90625, 0.890625, 0.921875, 0.9140625, 0.9296875, 0.890625, 0.9140625, 0.90625, 0.9140625, 0.8984375, 0.9296875, 0.9140625, 0.9140625, 0.8984375, 0.8984375, 0.90625, 0.9296875, 0.8984375, 0.921875, 0.9140625, 0.9140625, 0.8828125, 0.9140625, 0.9140625, 0.921875, 0.90625, 0.9140625, 0.90625, 0.9140625, 0.8828125, 0.921875, 0.921875, 0.921875, 0.890625, 0.921875, 0.8984375, 0.9140625, 0.90625, 0.921875, 0.9140625, 0.921875, 0.890625, 0.8984375, 0.9140625, 0.921875, 0.8984375, 0.9296875, 0.90625, 0.9140625, 0.890625, 0.90625, 0.9140625, 0.9296875, 0.8984375, 0.9140625, 0.9140625, 0.90625, 0.8828125, 0.9296875, 0.9140625, 0.921875, 0.8984375, 0.9140625, 0.8984375, 0.921875, 0.8984375, 0.921875, 0.921875, 0.9140625, 0.890625, 0.90625, 0.90625, 0.921875, 0.90625, 0.921875, 0.90625, 0.921875, 0.8828125, 0.90625, 0.921875, 0.921875, 0.8984375, 0.921875, 0.90625, 0.90625, 0.890625, 0.921875, 0.9140625, 0.9296875, 0.890625, 0.9140625, 0.90625]])\n",
    "djepa_g2p_mses = np.array([0.13128924369812012, 0.13548608124256134, 0.11971203982830048, 0.07507631182670593, 0.12227443605661392, 0.11739178746938705, 0.14213153719902039, 0.1561315357685089, 0.15836048126220703, 0.16708993911743164, 0.1429404765367508, 0.13979250192642212, 0.15082843601703644, 0.16730095446109772, 0.17947326600551605, 0.17253220081329346, 0.18405504524707794, 0.16477394104003906, 0.16233210265636444, 0.15931512415409088, 0.18171696364879608, 0.18927669525146484, 0.18521711230278015, 0.18844881653785706, 0.17665697634220123, 0.1762319803237915, 0.17413519322872162, 0.18354026973247528, 0.20030160248279572, 0.19456668198108673, 0.19482950866222382, 0.17947007715702057, 0.18561479449272156, 0.1796605885028839, 0.18900686502456665, 0.2015896737575531, 0.19871625304222107, 0.2008245289325714, 0.1843004673719406, 0.18403123319149017, 0.18479114770889282, 0.19528159499168396, 0.20617865025997162, 0.19971996545791626, 0.20669269561767578, 0.18877165019512177, 0.18765613436698914, 0.18661253154277802, 0.19884103536605835, 0.20691505074501038, 0.20290006697177887, 0.20532438158988953, 0.194458469748497, 0.1930067390203476, 0.18909206986427307, 0.200027734041214, 0.21313542127609253, 0.20321279764175415, 0.20587219297885895, 0.1943187564611435, 0.19382506608963013, 0.1903143674135208, 0.1998080015182495, 0.2112531214952469, 0.20800073444843292, 0.21000686287879944, 0.19208484888076782, 0.19471138715744019, 0.1930321305990219, 0.20020432770252228, 0.21314872801303864, 0.2086832970380783, 0.21256548166275024, 0.19645509123802185, 0.19568468630313873, 0.190504252910614, 0.20570658147335052, 0.2136317491531372, 0.2055903971195221, 0.21164590120315552, 0.20034660398960114, 0.19526037573814392, 0.19245944917201996, 0.20630300045013428, 0.21533463895320892, 0.20821291208267212, 0.21138742566108704, 0.19715453684329987, 0.19945691525936127, 0.19546912610530853, 0.202205091714859, 0.21510916948318481, 0.21172231435775757, 0.2119423747062683, 0.1937064230442047, 0.1997445821762085, 0.19333715736865997, 0.20344404876232147, 0.2158457338809967, 0.20886285603046417, 0.21334707736968994, 0.1993718147277832, 0.19527311623096466, 0.19356469810009003, 0.20759908854961395, 0.21339333057403564, 0.20879222452640533, 0.21411480009555817, 0.19993102550506592, 0.19809600710868835, 0.1956806778907776, 0.2054165005683899, 0.21644893288612366, 0.2101113200187683, 0.21183612942695618, 0.19841128587722778, 0.20127934217453003, 0.1937044858932495, 0.2025666981935501, 0.21623317897319794, 0.2094862312078476, 0.21227586269378662, 0.19647832214832306, 0.19796855747699738, 0.19428211450576782, 0.2048514187335968, 0.21546965837478638, 0.2116369605064392, 0.215322345495224, 0.19831909239292145, 0.19622401893138885, 0.19541522860527039, 0.20596595108509064, 0.21431812644004822, 0.2101842164993286, 0.21369525790214539, 0.20027728378772736, 0.19960489869117737, 0.19411344826221466, 0.20697607100009918, 0.21741899847984314, 0.20736706256866455, 0.2111475169658661, 0.20002193748950958, 0.1992056518793106, 0.1948261260986328, 0.20469698309898376, 0.21545831859111786, 0.2121552973985672, 0.2142355889081955, 0.19556419551372528, 0.2000337392091751, 0.19630004465579987, 0.20309968292713165, 0.21559059619903564, 0.2130034863948822, 0.21482974290847778, 0.19867031276226044, 0.19847959280014038, 0.19370120763778687, 0.20772598683834076, 0.21560293436050415, 0.20839139819145203, 0.21383249759674072, 0.20216161012649536, 0.19779203832149506, 0.19433197379112244, 0.2083256095647812, 0.21668177843093872, 0.21043162047863007, 0.21350091695785522, 0.19903801381587982, 0.20115800201892853, 0.19675377011299133, 0.20332682132720947, 0.21644851565361023, 0.21308940649032593, 0.21338067948818207, 0.19512946903705597, 0.20148152112960815, 0.19444379210472107, 0.20455962419509888, 0.2171480506658554, 0.2101965844631195, 0.21444809436798096, 0.20057155191898346, 0.19633795320987701, 0.19467683136463165, 0.2082778513431549, 0.2145019918680191, 0.20962096750736237, 0.21518678963184357, 0.20069801807403564, 0.19926699995994568, 0.19667291641235352, 0.20618890225887299, 0.21735411882400513, 0.21104596555233002, 0.21269169449806213, 0.1991608738899231])\n",
    "\n",
    "import seaborn as sns\n",
    "import matplotlib.pyplot as plt\n",
    "sns.set_style('white', rc={\n",
    "\n",
    "})\n",
    "title_fontsize = 16\n",
    "axis_fontsize = 14\n",
    "legend_fontsize = 12\n",
    "ms=6\n",
    "linewidth = 1.5\n",
    "# for x in [1, 10, 100]:\n",
    "#     plt.axvline(x=x, color='gray', linestyle='dotted', linewidth=1)\n",
    "# 가로 눈금선: 10% 간격으로 (0.0 ~ 1.0 기준)\n",
    "ijred_col = '#DE654E'\n",
    "ijepa_col = \"#7CDD5E\"\n",
    "djepa_col = '#4E7DDF'\n",
    "\n",
    "task = np.array(task)\n",
    "def gen_hline():\n",
    "    for y in np.arange(0, 1.1, 0.2):\n",
    "        plt.axhline(y=y, color='gray', linestyle='--', linewidth=0.5)\n",
    "\n",
    "plt.figure(figsize=(16, 3.2))\n",
    "\n",
    "plt.subplot(1, 3, 1)\n",
    "\n",
    "gen_hline()\n",
    "plt.ylabel('Accuracy',fontsize=axis_fontsize)\n",
    "plt.xlabel('Rollout Steps',fontsize=axis_fontsize)\n",
    "plt.title('Color',fontsize=title_fontsize)\n",
    "plt.ylim(0, 1.1)\n",
    "plt.xlim(-10, 200)\n",
    "\n",
    "\n",
    "x = np.arange(0,200,10)\n",
    "#plt.xscale('log', base=10)\n",
    "ax = sns.lineplot(x=x,y=djepa_g2p_task[0][x], label='Discrete JEPA',   color=ijred_col   ,marker='o',linewidth=linewidth,markersize=ms)\n",
    "ax = sns.lineplot(x=x,y=ijepa_task[0][x], label='I-JEPA (AvgPool)',  color=ijepa_col   ,marker='D',linewidth=linewidth,markersize=ms)\n",
    "ax = sns.lineplot(x=x,y=task[0][x], label='TiTok',                  color=djepa_col   ,marker='s',linewidth=linewidth,markersize=ms)\n",
    "plt.legend(fontsize=legend_fontsize)\n",
    "for _,s in ax.spines.items():\n",
    "    s.set_linewidth(1)\n",
    "plt.subplot(1, 3, 2)\n",
    "gen_hline()\n",
    "plt.xlabel('Rollout Steps',fontsize=axis_fontsize)\n",
    "plt.title('Shape',fontsize=title_fontsize)\n",
    "plt.ylim(0, 1.1)\n",
    "plt.xlim(-10, 200)\n",
    "ax = sns.lineplot(x=x,y=djepa_g2p_task[1][x],    color=ijred_col   ,marker='o',linewidth=linewidth,markersize=ms)\n",
    "ax = sns.lineplot(x=x,y=ijepa_task[1][x],    color=ijepa_col   ,marker='D',linewidth=linewidth,markersize=ms)\n",
    "ax = sns.lineplot(x=x,y=task[1][x],          color=djepa_col   ,marker='s',linewidth=linewidth,markersize=ms)\n",
    "for _,s in ax.spines.items():\n",
    "    s.set_linewidth(1)\n",
    "\n",
    "plt.subplot(1, 3, 3)\n",
    "gen_hline()\n",
    "plt.xlabel('Rollout Steps',fontsize=axis_fontsize)\n",
    "plt.title('Position',fontsize=title_fontsize)\n",
    "plt.ylim(0, 1.1)\n",
    "plt.xlim(-10, 200)\n",
    "ax = sns.lineplot(x=x,y=djepa_g2p_task[2][x],    color=ijred_col   ,marker='o',linewidth=linewidth,markersize=ms)\n",
    "ax = sns.lineplot(x=x,y=ijepa_task[2][x],    color=ijepa_col   ,marker='D',linewidth=linewidth,markersize=ms)\n",
    "ax = sns.lineplot(x=x,y=task[2][x],          color=djepa_col   ,marker='s',linewidth=linewidth,markersize=ms)\n",
    "for _,s in ax.spines.items():\n",
    "    s.set_linewidth(1)\n",
    "plt.savefig('/data/hslee/discrete-jepa/figs/dsph_wm.pdf',bbox_inches='tight')\n",
    "plt.show()\n",
    "\n",
    "\n",
    "plt.figure(figsize=(9, 6))\n",
    "sns.lineplot(mses, label='D-JEPA', color='royalblue', linestyle='-')\n",
    "sns.lineplot(ijepa_mses, label='I-JEPA', color='orange', linestyle='-')\n",
    "sns.lineplot(ijred_mses, label='I-JEPA-fullpatch', color='red', linestyle='-')\n",
    "\n",
    "plt.ylabel('MSE (log)')\n",
    "plt.xlabel('Time Steps')\n",
    "plt.yscale('log')\n",
    "plt.yticks([0.1,1,10,])\n",
    "plt.legend(loc='center right',)\n",
    "plt.title('MSE for I/D-JEPA Latent Prediction (per-number)')\n",
    "plt.show()"
   ]
  }
 ],
 "metadata": {
  "kernelspec": {
   "display_name": "Python 3",
   "language": "python",
   "name": "python3"
  },
  "language_info": {
   "codemirror_mode": {
    "name": "ipython",
    "version": 3
   },
   "file_extension": ".py",
   "mimetype": "text/x-python",
   "name": "python",
   "nbconvert_exporter": "python",
   "pygments_lexer": "ipython3",
   "version": "3.10.18"
  }
 },
 "nbformat": 4,
 "nbformat_minor": 2
}
